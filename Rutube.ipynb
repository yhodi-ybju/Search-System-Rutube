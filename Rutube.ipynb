{
 "cells": [
  {
   "cell_type": "code",
   "execution_count": 1,
   "id": "e2f2bb78-fa5a-438b-ac32-83ec6bb04da2",
   "metadata": {
    "execution": {
     "iopub.execute_input": "2023-11-25T01:29:28.923769Z",
     "iopub.status.busy": "2023-11-25T01:29:28.923068Z",
     "iopub.status.idle": "2023-11-25T01:29:43.881773Z",
     "shell.execute_reply": "2023-11-25T01:29:43.880724Z",
     "shell.execute_reply.started": "2023-11-25T01:29:28.923729Z"
    },
    "tags": []
   },
   "outputs": [
    {
     "name": "stdout",
     "output_type": "stream",
     "text": [
      "Defaulting to user installation because normal site-packages is not writeable\n",
      "Requirement already satisfied: pyarrow in /usr/local/lib/python3.10/dist-packages (9.0.0)\n",
      "Requirement already satisfied: numpy>=1.16.6 in /usr/local/lib/python3.10/dist-packages (from pyarrow) (1.22.4)\n",
      "Defaulting to user installation because normal site-packages is not writeable\n",
      "Requirement already satisfied: fastparquet in /home/jupyter/.local/lib/python3.10/site-packages (2023.10.1)\n",
      "Requirement already satisfied: pandas>=1.5.0 in /usr/local/lib/python3.10/dist-packages (from fastparquet) (1.5.3)\n",
      "Requirement already satisfied: numpy>=1.20.3 in /usr/local/lib/python3.10/dist-packages (from fastparquet) (1.22.4)\n",
      "Requirement already satisfied: cramjam>=2.3 in /home/jupyter/.local/lib/python3.10/site-packages (from fastparquet) (2.7.0)\n",
      "Requirement already satisfied: fsspec in /usr/local/lib/python3.10/dist-packages (from fastparquet) (2023.6.0)\n",
      "Requirement already satisfied: packaging in /kernel/lib/python3.10/site-packages (from fastparquet) (23.2)\n",
      "Requirement already satisfied: python-dateutil>=2.8.1 in /kernel/lib/python3.10/site-packages (from pandas>=1.5.0->fastparquet) (2.8.2)\n",
      "Requirement already satisfied: pytz>=2020.1 in /usr/local/lib/python3.10/dist-packages (from pandas>=1.5.0->fastparquet) (2022.7.1)\n",
      "Requirement already satisfied: six>=1.5 in /kernel/lib/python3.10/site-packages (from python-dateutil>=2.8.1->pandas>=1.5.0->fastparquet) (1.16.0)\n"
     ]
    }
   ],
   "source": [
    "# %pip install nltk\n",
    "%pip install pyarrow\n",
    "%pip install fastparquet"
   ]
  },
  {
   "cell_type": "code",
   "execution_count": 2,
   "id": "b0370ece-bf90-4c36-96df-ff27dd0c1194",
   "metadata": {
    "execution": {
     "iopub.execute_input": "2023-11-25T01:29:48.710289Z",
     "iopub.status.busy": "2023-11-25T01:29:48.709181Z",
     "iopub.status.idle": "2023-11-25T01:29:48.752740Z",
     "shell.execute_reply": "2023-11-25T01:29:48.751644Z",
     "shell.execute_reply.started": "2023-11-25T01:29:48.710249Z"
    },
    "tags": []
   },
   "outputs": [],
   "source": [
    "import pandas as pd\n",
    "import numpy as np\n",
    "from tqdm import tqdm"
   ]
  },
  {
   "cell_type": "code",
   "execution_count": 9,
   "id": "6024a94f-8514-46c4-a454-f62d9355b784",
   "metadata": {
    "execution": {
     "iopub.execute_input": "2023-11-25T01:41:41.317200Z",
     "iopub.status.busy": "2023-11-25T01:41:41.316249Z",
     "iopub.status.idle": "2023-11-25T01:41:41.353702Z",
     "shell.execute_reply": "2023-11-25T01:41:41.352699Z",
     "shell.execute_reply.started": "2023-11-25T01:41:41.317154Z"
    }
   },
   "outputs": [
    {
     "data": {
      "text/html": [
       "<div>\n",
       "<style scoped>\n",
       "    .dataframe tbody tr th:only-of-type {\n",
       "        vertical-align: middle;\n",
       "    }\n",
       "\n",
       "    .dataframe tbody tr th {\n",
       "        vertical-align: top;\n",
       "    }\n",
       "\n",
       "    .dataframe thead th {\n",
       "        text-align: right;\n",
       "    }\n",
       "</style>\n",
       "<table border=\"1\" class=\"dataframe\">\n",
       "  <thead>\n",
       "    <tr style=\"text-align: right;\">\n",
       "      <th></th>\n",
       "      <th>query</th>\n",
       "    </tr>\n",
       "  </thead>\n",
       "  <tbody>\n",
       "    <tr>\n",
       "      <th>0</th>\n",
       "      <td>экстрасенсы битва сильнейших 2 сезон</td>\n",
       "    </tr>\n",
       "    <tr>\n",
       "      <th>1</th>\n",
       "      <td>битва экстрасенсов 2</td>\n",
       "    </tr>\n",
       "    <tr>\n",
       "      <th>2</th>\n",
       "      <td>Экстрасенсы</td>\n",
       "    </tr>\n",
       "    <tr>\n",
       "      <th>3</th>\n",
       "      <td>битва сильнейших 19 сезон</td>\n",
       "    </tr>\n",
       "    <tr>\n",
       "      <th>4</th>\n",
       "      <td>битва экстрасенсов 20 сезон</td>\n",
       "    </tr>\n",
       "    <tr>\n",
       "      <th>...</th>\n",
       "      <td>...</td>\n",
       "    </tr>\n",
       "    <tr>\n",
       "      <th>1995</th>\n",
       "      <td>ПОЛИКЛИНИКА в этом ведре и есть счастье ?</td>\n",
       "    </tr>\n",
       "    <tr>\n",
       "      <th>1996</th>\n",
       "      <td>Как избавиться от страхов и начать бизнес ?</td>\n",
       "    </tr>\n",
       "    <tr>\n",
       "      <th>1997</th>\n",
       "      <td>Как и где продавать аромасвечи ?</td>\n",
       "    </tr>\n",
       "    <tr>\n",
       "      <th>1998</th>\n",
       "      <td>Ответы на Ваши комментарии! Аромасвечи</td>\n",
       "    </tr>\n",
       "    <tr>\n",
       "      <th>1999</th>\n",
       "      <td>Скетч-шоу VELLISSIMOO «знать и молчать?»</td>\n",
       "    </tr>\n",
       "  </tbody>\n",
       "</table>\n",
       "<p>2000 rows × 1 columns</p>\n",
       "</div>"
      ],
      "text/plain": [
       "                                            query\n",
       "0            экстрасенсы битва сильнейших 2 сезон\n",
       "1                            битва экстрасенсов 2\n",
       "2                                     Экстрасенсы\n",
       "3                       битва сильнейших 19 сезон\n",
       "4                     битва экстрасенсов 20 сезон\n",
       "...                                           ...\n",
       "1995    ПОЛИКЛИНИКА в этом ведре и есть счастье ?\n",
       "1996  Как избавиться от страхов и начать бизнес ?\n",
       "1997             Как и где продавать аромасвечи ?\n",
       "1998       Ответы на Ваши комментарии! Аромасвечи\n",
       "1999     Скетч-шоу VELLISSIMOO «знать и молчать?»\n",
       "\n",
       "[2000 rows x 1 columns]"
      ]
     },
     "execution_count": 9,
     "metadata": {},
     "output_type": "execute_result"
    }
   ],
   "source": [
    "df1 = pd.read_csv(\"submission_queries.csv\")\n",
    "df1"
   ]
  },
  {
   "cell_type": "code",
   "execution_count": 39,
   "id": "2a7cb913-5c4a-4059-a722-fdcaf8d022e0",
   "metadata": {
    "execution": {
     "iopub.execute_input": "2023-11-25T02:21:12.402530Z",
     "iopub.status.busy": "2023-11-25T02:21:12.401793Z",
     "iopub.status.idle": "2023-11-25T02:21:12.431557Z",
     "shell.execute_reply": "2023-11-25T02:21:12.430395Z",
     "shell.execute_reply.started": "2023-11-25T02:21:12.402494Z"
    },
    "tags": []
   },
   "outputs": [
    {
     "name": "stdout",
     "output_type": "stream",
     "text": [
      "2000\n"
     ]
    },
    {
     "data": {
      "text/plain": [
       "['экстрасенсы битва сильнейших 2 сезон',\n",
       " 'битва экстрасенсов 2',\n",
       " 'экстрасенсы',\n",
       " 'битва сильнейших 19 сезон',\n",
       " 'битва экстрасенсов 20 сезон',\n",
       " 'битва экстрасенсов',\n",
       " 'битва сильнейших 19 сезон',\n",
       " 'экстрасенсы битва сильнейших',\n",
       " 'звезды в дубае',\n",
       " 'выжить в дубае звездам прислали верблюжий навоз']"
      ]
     },
     "execution_count": 39,
     "metadata": {},
     "output_type": "execute_result"
    }
   ],
   "source": [
    "# Оставим только слова\n",
    "df = df1['query']\n",
    "\n",
    "rus_alph = set(list('йцукенгшщзхъфывапролджэёячсмитьбю0123456789qwertyuiopasdfghjklzxcvbnm'))\n",
    "drop_not_letters = lambda s: ''.join(list(filter(lambda c: c in rus_alph or c == ' ', s)))\n",
    "\n",
    "df = [drop_not_letters(comm.lower()) for comm in df]\n",
    "\n",
    "# уберем пустые комменты\n",
    "df = list(filter(lambda comm: len(comm) > 0, df))\n",
    "print(len(df))\n",
    "\n",
    "df[:10]"
   ]
  },
  {
   "cell_type": "code",
   "execution_count": 166,
   "id": "8be29f02-f3a2-4f16-90f2-7e2c45fca476",
   "metadata": {
    "execution": {
     "iopub.execute_input": "2023-11-25T05:29:42.014793Z",
     "iopub.status.busy": "2023-11-25T05:29:42.014116Z",
     "iopub.status.idle": "2023-11-25T05:29:42.032770Z",
     "shell.execute_reply": "2023-11-25T05:29:42.031641Z",
     "shell.execute_reply.started": "2023-11-25T05:29:42.014759Z"
    },
    "tags": []
   },
   "outputs": [
    {
     "name": "stdout",
     "output_type": "stream",
     "text": [
      "151\n"
     ]
    }
   ],
   "source": [
    "from nltk.corpus import stopwords\n",
    "import nltk\n",
    "nltk.download('stopwords', quiet=True)\n",
    "\n",
    "ru_stopwords = stopwords.words('russian')\n",
    "print(len(ru_stopwords))"
   ]
  },
  {
   "cell_type": "code",
   "execution_count": 38,
   "id": "1eb70e9b-4fef-4ad7-8ef9-5dffe1e6fbc5",
   "metadata": {
    "execution": {
     "iopub.execute_input": "2023-11-25T02:19:24.407695Z",
     "iopub.status.busy": "2023-11-25T02:19:24.406947Z",
     "iopub.status.idle": "2023-11-25T02:19:24.426149Z",
     "shell.execute_reply": "2023-11-25T02:19:24.424999Z",
     "shell.execute_reply.started": "2023-11-25T02:19:24.407627Z"
    },
    "tags": []
   },
   "outputs": [
    {
     "data": {
      "text/plain": [
       "['экстрасенсы битва сильнейших 2 сезон',\n",
       " 'битва экстрасенсов 2',\n",
       " 'экстрасенсы',\n",
       " 'битва сильнейших 19 сезон',\n",
       " 'битва экстрасенсов 20 сезон',\n",
       " 'битва экстрасенсов',\n",
       " 'битва сильнейших 19 сезон',\n",
       " 'экстрасенсы битва сильнейших',\n",
       " 'звезды дубае',\n",
       " 'выжить дубае звездам прислали верблюжий навоз']"
      ]
     },
     "execution_count": 38,
     "metadata": {},
     "output_type": "execute_result"
    }
   ],
   "source": [
    "ru_stopwords = set(ru_stopwords)\n",
    "\n",
    "def preprocess_text(text: str) -> str:\n",
    "    '''text = text.lower()\n",
    "    is_allowed_char = lambda c: c.isalpha() or c == ' '\n",
    "    text = ''.join(list(filter(is_allowed_char, text)))'''\n",
    "\n",
    "    is_stopword = lambda word: word not in ru_stopwords\n",
    "    text = ' '.join(list(filter(is_stopword, text.split())))\n",
    "    return text\n",
    "\n",
    "\n",
    "texts = [preprocess_text(text) for text in df]\n",
    "\n",
    "texts[:10]"
   ]
  },
  {
   "cell_type": "code",
   "execution_count": 20,
   "id": "f8656689-3f3c-4648-b183-9486ca94c82a",
   "metadata": {
    "execution": {
     "iopub.execute_input": "2023-11-25T02:00:50.592571Z",
     "iopub.status.busy": "2023-11-25T02:00:50.591019Z",
     "iopub.status.idle": "2023-11-25T02:00:50.645009Z",
     "shell.execute_reply": "2023-11-25T02:00:50.643556Z",
     "shell.execute_reply.started": "2023-11-25T02:00:50.592478Z"
    },
    "tags": []
   },
   "outputs": [],
   "source": [
    "from w_dict_auto import words_dictionary_auto as W1\n",
    "from w_dict_manual import words_dictionary_manual as W2\n"
   ]
  },
  {
   "cell_type": "code",
   "execution_count": null,
   "id": "87f4fe3e-04b8-4599-80d1-061ea3f3c166",
   "metadata": {},
   "outputs": [],
   "source": [
    "answer  = [text.split(' ') for text in df]\n",
    "print(answer)"
   ]
  },
  {
   "cell_type": "code",
   "execution_count": 16,
   "id": "0098b553-f48b-4e69-9e5f-8d4490882b2d",
   "metadata": {
    "execution": {
     "iopub.execute_input": "2023-11-25T01:56:14.748345Z",
     "iopub.status.busy": "2023-11-25T01:56:14.747084Z",
     "iopub.status.idle": "2023-11-25T01:56:14.921637Z",
     "shell.execute_reply": "2023-11-25T01:56:14.920535Z",
     "shell.execute_reply.started": "2023-11-25T01:56:14.748286Z"
    }
   },
   "outputs": [],
   "source": [
    "from zapros_analysis import highlighting_keywords"
   ]
  },
  {
   "cell_type": "code",
   "execution_count": 6,
   "id": "970c008e-4bab-4179-b4e5-4715c047e77a",
   "metadata": {
    "execution": {
     "iopub.execute_input": "2023-11-25T01:34:12.063401Z",
     "iopub.status.busy": "2023-11-25T01:34:12.062720Z",
     "iopub.status.idle": "2023-11-25T01:34:28.886156Z",
     "shell.execute_reply": "2023-11-25T01:34:28.885126Z",
     "shell.execute_reply.started": "2023-11-25T01:34:12.063359Z"
    },
    "tags": []
   },
   "outputs": [],
   "source": [
    "features_nov = pd.read_parquet('features_nov.parquet',engine='fastparquet')"
   ]
  },
  {
   "cell_type": "code",
   "execution_count": 44,
   "id": "a606d975-bd2e-4415-9aea-853364a28d87",
   "metadata": {
    "execution": {
     "iopub.execute_input": "2023-11-25T02:30:25.604361Z",
     "iopub.status.busy": "2023-11-25T02:30:25.603191Z",
     "iopub.status.idle": "2023-11-25T02:30:26.692790Z",
     "shell.execute_reply": "2023-11-25T02:30:26.691639Z",
     "shell.execute_reply.started": "2023-11-25T02:30:25.604325Z"
    },
    "tags": []
   },
   "outputs": [
    {
     "data": {
      "text/html": [
       "<div>\n",
       "<style scoped>\n",
       "    .dataframe tbody tr th:only-of-type {\n",
       "        vertical-align: middle;\n",
       "    }\n",
       "\n",
       "    .dataframe tbody tr th {\n",
       "        vertical-align: top;\n",
       "    }\n",
       "\n",
       "    .dataframe thead th {\n",
       "        text-align: right;\n",
       "    }\n",
       "</style>\n",
       "<table border=\"1\" class=\"dataframe\">\n",
       "  <thead>\n",
       "    <tr style=\"text-align: right;\">\n",
       "      <th></th>\n",
       "      <th>video_id</th>\n",
       "      <th>report_date</th>\n",
       "      <th>v_channel_reg_datetime</th>\n",
       "      <th>v_channel_type</th>\n",
       "      <th>v_category</th>\n",
       "      <th>v_pub_datetime</th>\n",
       "      <th>total_comments</th>\n",
       "      <th>v_year_views</th>\n",
       "      <th>v_month_views</th>\n",
       "      <th>v_week_views</th>\n",
       "      <th>v_day_views</th>\n",
       "      <th>v_likes</th>\n",
       "      <th>v_dislikes</th>\n",
       "      <th>v_duration</th>\n",
       "      <th>v_cr_click_like_7_days</th>\n",
       "      <th>v_cr_click_dislike_7_days</th>\n",
       "      <th>v_cr_click_vtop_7_days</th>\n",
       "      <th>v_cr_click_long_view_7_days</th>\n",
       "      <th>v_cr_click_comment_7_days</th>\n",
       "      <th>v_cr_click_like_30_days</th>\n",
       "      <th>v_cr_click_dislike_30_days</th>\n",
       "      <th>v_cr_click_vtop_30_days</th>\n",
       "      <th>v_cr_click_long_view_30_days</th>\n",
       "      <th>v_cr_click_comment_30_days</th>\n",
       "      <th>v_cr_click_like_1_days</th>\n",
       "      <th>v_cr_click_dislike_1_days</th>\n",
       "      <th>v_cr_click_vtop_1_days</th>\n",
       "      <th>v_cr_click_long_view_1_days</th>\n",
       "      <th>v_cr_click_comment_1_days</th>\n",
       "    </tr>\n",
       "  </thead>\n",
       "  <tbody>\n",
       "    <tr>\n",
       "      <th>12610504</th>\n",
       "      <td>video_30396638</td>\n",
       "      <td>2023-11-02</td>\n",
       "      <td>2021-03-18 08:06:30</td>\n",
       "      <td>ТВ И СМИ</td>\n",
       "      <td>Телепередачи</td>\n",
       "      <td>2023-07-02 19:00:13</td>\n",
       "      <td>190</td>\n",
       "      <td>339734</td>\n",
       "      <td>26005</td>\n",
       "      <td>5594</td>\n",
       "      <td>650</td>\n",
       "      <td>753</td>\n",
       "      <td>29</td>\n",
       "      <td>3043000</td>\n",
       "      <td>0.001966</td>\n",
       "      <td>0.000179</td>\n",
       "      <td>0.000715</td>\n",
       "      <td>0.58956</td>\n",
       "      <td>0.0</td>\n",
       "      <td>0.0025</td>\n",
       "      <td>0.000038</td>\n",
       "      <td>0.000692</td>\n",
       "      <td>0.592924</td>\n",
       "      <td>0.000077</td>\n",
       "      <td>0.001538</td>\n",
       "      <td>0.001538</td>\n",
       "      <td>0.0</td>\n",
       "      <td>0.575385</td>\n",
       "      <td>0.0</td>\n",
       "    </tr>\n",
       "  </tbody>\n",
       "</table>\n",
       "</div>"
      ],
      "text/plain": [
       "                video_id  ... v_cr_click_comment_1_days\n",
       "12610504  video_30396638  ...                       0.0\n",
       "\n",
       "[1 rows x 29 columns]"
      ]
     },
     "execution_count": 44,
     "metadata": {},
     "output_type": "execute_result"
    }
   ],
   "source": [
    "features_vid = features_nov[features_nov['video_id'] == 'video_30396638']\n",
    "features_vid"
   ]
  },
  {
   "cell_type": "code",
   "execution_count": 171,
   "id": "b86177eb-cf68-490f-b63e-c69193a35245",
   "metadata": {
    "execution": {
     "iopub.execute_input": "2023-11-25T05:33:40.599679Z",
     "iopub.status.busy": "2023-11-25T05:33:40.598883Z",
     "iopub.status.idle": "2023-11-25T05:33:40.621455Z",
     "shell.execute_reply": "2023-11-25T05:33:40.620340Z",
     "shell.execute_reply.started": "2023-11-25T05:33:40.599606Z"
    },
    "tags": []
   },
   "outputs": [],
   "source": [
    "from functools import cmp_to_key\n",
    "\n",
    "map_vid_count = dict()\n",
    "videos_critery_crutosty = dict()\n",
    "\n",
    "\n",
    "def critery_crutosty(vid):\n",
    "    try:\n",
    "        otv = 0\n",
    "        vid_np = np.array(features_nov[features_nov['video_id'] == vid])[0]\n",
    "        otv += vid_np[24] + vid_np[25] + vid_np[26] + vid_np[27] + vid_np[28]    \n",
    "        otv += 0.75 * (vid_np[14] + vid_np[15] + vid_np[16] + vid_np[17] + vid_np[18])\n",
    "        otv += 0.5 * (vid_np[19] + vid_np[20] + vid_np[21] + vid_np[22] + vid_np[23])\n",
    "        return otv\n",
    "    except Exception:\n",
    "        return 1\n",
    "\n",
    "\n",
    "def comparator(item1, item2):\n",
    "    mvc1 = map_vid_count[item1]\n",
    "    mvc2 = map_vid_count[item2]\n",
    "    if mvc1 < mvc2:\n",
    "        return -1\n",
    "    elif mvc1 > mvc2:\n",
    "        return 1\n",
    "    else:    \n",
    "        cc1 = videos_critery_crutosty[item1]\n",
    "        cc2 = videos_critery_crutosty[item2]\n",
    "        if cc1 < cc2:\n",
    "            return -1\n",
    "        elif cc1 > cc2:\n",
    "            return 1\n",
    "        else:\n",
    "            return 0\n",
    "\n",
    "\n",
    "def rec_vids_from_queries(query):\n",
    "    hkq = highlighting_keywords(query)\n",
    "    for el in hkq:\n",
    "        if el in W1 and el in W2:\n",
    "            for vid in W1[el]:\n",
    "                if vid in map_vid_count:\n",
    "                    map_vid_count[vid] += 1\n",
    "                else:\n",
    "                    map_vid_count[vid] = 1\n",
    "            for vid in W2[el]:\n",
    "                if vid not in W1[el]:\n",
    "                    if vid in map_vid_count:\n",
    "                        map_vid_count[vid] += 1\n",
    "                    else:\n",
    "                        map_vid_count[vid] = 1\n",
    "        elif el in W1:\n",
    "            for vid in W1[el]:\n",
    "                if vid in map_vid_count:\n",
    "                    map_vid_count[vid] += 1\n",
    "                else:\n",
    "                    map_vid_count[vid] = 1\n",
    "        elif el in W2:\n",
    "            for vid in W2[el]:\n",
    "                if vid in map_vid_count:\n",
    "                    map_vid_count[vid] += 1\n",
    "                else:\n",
    "                    map_vid_count[vid] = 1\n",
    "    \n",
    "    # sort_data = sorted(map_vid_count.items(), key=cmp_to_key(comparator))\n",
    "    # print(sort_data)\n",
    "    # return list(map(lambda x: x[0], sort_data))[:5]\n",
    "    \n",
    "    vids = []\n",
    "    sum_len = 0\n",
    "    for i in range(len(hkq), 1, -1):\n",
    "        for vid in map_vid_count.keys():\n",
    "            if map_vid_count[vid] == i:\n",
    "                vids.append(vid)\n",
    "                videos_critery_crutosty[vid] = critery_crutosty(vid)\n",
    "                sum_len += 1\n",
    "            if sum_len >= 10:\n",
    "                break\n",
    "        if sum_len >= 5:\n",
    "            break\n",
    "    \n",
    "    vids = sorted(vids, key=cmp_to_key(comparator))\n",
    "    return vids[:5]\n",
    "    \n",
    "\n"
   ]
  },
  {
   "cell_type": "code",
   "execution_count": 173,
   "id": "eea6b1fb-1554-4afc-95a8-14254703ef64",
   "metadata": {
    "execution": {
     "iopub.execute_input": "2023-11-25T05:34:37.774899Z",
     "iopub.status.busy": "2023-11-25T05:34:37.774002Z",
     "iopub.status.idle": "2023-11-25T05:34:48.531189Z",
     "shell.execute_reply": "2023-11-25T05:34:48.529917Z",
     "shell.execute_reply.started": "2023-11-25T05:34:37.774860Z"
    },
    "tags": []
   },
   "outputs": [
    {
     "name": "stderr",
     "output_type": "stream",
     "text": [
      "[nltk_data] Downloading package stopwords to\n",
      "[nltk_data]     /home/jupyter/nltk_data...\n",
      "[nltk_data]   Package stopwords is already up-to-date!\n"
     ]
    },
    {
     "name": "stdout",
     "output_type": "stream",
     "text": [
      "['video_23236855', 'video_8794018', 'video_23927899', 'video_32733092', 'video_617238']\n"
     ]
    }
   ],
   "source": [
    "zapros = \"экстрасенсы битва сильнейших 2 сезон\"\n",
    "print(rec_vids_from_queries(zapros))"
   ]
  },
  {
   "cell_type": "code",
   "execution_count": 174,
   "id": "15ff13a3-f76f-4ff8-a358-995cfd1aa1f8",
   "metadata": {
    "execution": {
     "iopub.execute_input": "2023-11-25T05:34:53.124166Z",
     "iopub.status.busy": "2023-11-25T05:34:53.123530Z",
     "iopub.status.idle": "2023-11-25T05:34:53.136457Z",
     "shell.execute_reply": "2023-11-25T05:34:53.135359Z",
     "shell.execute_reply.started": "2023-11-25T05:34:53.124133Z"
    },
    "tags": []
   },
   "outputs": [],
   "source": [
    "# отдельная функция преобразования в файл"
   ]
  },
  {
   "cell_type": "code",
   "execution_count": 175,
   "id": "89925fda-3b9e-47b8-9efe-c7d986af17f2",
   "metadata": {
    "execution": {
     "iopub.execute_input": "2023-11-25T05:34:54.751160Z",
     "iopub.status.busy": "2023-11-25T05:34:54.750221Z",
     "iopub.status.idle": "2023-11-25T05:34:54.792305Z",
     "shell.execute_reply": "2023-11-25T05:34:54.791208Z",
     "shell.execute_reply.started": "2023-11-25T05:34:54.751120Z"
    },
    "tags": []
   },
   "outputs": [
    {
     "data": {
      "text/plain": [
       "array([['Битва сильнейших экстрасенсов 2023 смотреть | Экстрасенсы битва сильнейших 35, 36 серия'],\n",
       "       ['битва сильнейших экстрасенсов 2023\\\\nбитва сильнейших экстрасенсов 2023 смотреть'],\n",
       "       ['Экстрасенсы. Битва сильнейших, 4 выпуск'],\n",
       "       ...,\n",
       "       ['смотреть мужское женское 2019'],\n",
       "       ['шоу вована и лексуса'],\n",
       "       ['мужкое женское выпуск от 04 06 2021']], dtype=object)"
      ]
     },
     "execution_count": 175,
     "metadata": {},
     "output_type": "execute_result"
    }
   ],
   "source": [
    "tst = np.array(pd.read_csv('test_dataset_submission_queries.csv'))\n",
    "tst"
   ]
  },
  {
   "cell_type": "code",
   "execution_count": null,
   "id": "fe8fa43a-9ac6-4158-9399-130ed413283a",
   "metadata": {
    "execution": {
     "iopub.execute_input": "2023-11-25T10:36:36.425302Z",
     "iopub.status.busy": "2023-11-25T10:36:36.424680Z"
    },
    "tags": []
   },
   "outputs": [
    {
     "name": "stderr",
     "output_type": "stream",
     "text": [
      "[nltk_data] Downloading package stopwords to\n",
      "[nltk_data]     /home/jupyter/nltk_data...\n",
      "[nltk_data]   Package stopwords is already up-to-date!\n"
     ]
    },
    {
     "name": "stdout",
     "output_type": "stream",
     "text": [
      "Битва сильнейших экстрасенсов 2023 смотреть | Экстрасенсы битва сильнейших 35, 36 серия,video_32276606\n",
      "\n",
      "Битва сильнейших экстрасенсов 2023 смотреть | Экстрасенсы битва сильнейших 35, 36 серия,video_33931132\n",
      "\n",
      "Битва сильнейших экстрасенсов 2023 смотреть | Экстрасенсы битва сильнейших 35, 36 серия,video_3810119\n",
      "\n",
      "Битва сильнейших экстрасенсов 2023 смотреть | Экстрасенсы битва сильнейших 35, 36 серия,video_5410760\n",
      "\n",
      "Битва сильнейших экстрасенсов 2023 смотреть | Экстрасенсы битва сильнейших 35, 36 серия,video_18100862\n",
      "\n"
     ]
    },
    {
     "name": "stderr",
     "output_type": "stream",
     "text": [
      "[nltk_data] Downloading package stopwords to\n",
      "[nltk_data]     /home/jupyter/nltk_data...\n",
      "[nltk_data]   Package stopwords is already up-to-date!\n"
     ]
    },
    {
     "name": "stdout",
     "output_type": "stream",
     "text": [
      "битва сильнейших экстрасенсов 2023\\nбитва сильнейших экстрасенсов 2023 смотреть,video_11978458\n",
      "\n",
      "битва сильнейших экстрасенсов 2023\\nбитва сильнейших экстрасенсов 2023 смотреть,video_18493556\n",
      "\n",
      "битва сильнейших экстрасенсов 2023\\nбитва сильнейших экстрасенсов 2023 смотреть,video_9467797\n",
      "\n",
      "битва сильнейших экстрасенсов 2023\\nбитва сильнейших экстрасенсов 2023 смотреть,video_8394567\n",
      "\n",
      "битва сильнейших экстрасенсов 2023\\nбитва сильнейших экстрасенсов 2023 смотреть,video_2829093\n",
      "\n"
     ]
    },
    {
     "name": "stderr",
     "output_type": "stream",
     "text": [
      "[nltk_data] Downloading package stopwords to\n",
      "[nltk_data]     /home/jupyter/nltk_data...\n",
      "[nltk_data]   Package stopwords is already up-to-date!\n"
     ]
    },
    {
     "name": "stdout",
     "output_type": "stream",
     "text": [
      "Экстрасенсы. Битва сильнейших, 4 выпуск,video_8314515\n",
      "\n",
      "Экстрасенсы. Битва сильнейших, 4 выпуск,video_16592220\n",
      "\n",
      "Экстрасенсы. Битва сильнейших, 4 выпуск,video_17756748\n",
      "\n",
      "Экстрасенсы. Битва сильнейших, 4 выпуск,video_12530881\n",
      "\n",
      "Экстрасенсы. Битва сильнейших, 4 выпуск,video_25277342\n",
      "\n"
     ]
    },
    {
     "name": "stderr",
     "output_type": "stream",
     "text": [
      "[nltk_data] Downloading package stopwords to\n",
      "[nltk_data]     /home/jupyter/nltk_data...\n",
      "[nltk_data]   Package stopwords is already up-to-date!\n"
     ]
    },
    {
     "name": "stdout",
     "output_type": "stream",
     "text": [
      "супер стар 4 сезон,video_8314515\n",
      "\n",
      "супер стар 4 сезон,video_16592220\n",
      "\n",
      "супер стар 4 сезон,video_17756748\n",
      "\n",
      "супер стар 4 сезон,video_12530881\n",
      "\n",
      "супер стар 4 сезон,video_25277342\n",
      "\n"
     ]
    },
    {
     "name": "stderr",
     "output_type": "stream",
     "text": [
      "[nltk_data] Downloading package stopwords to\n",
      "[nltk_data]     /home/jupyter/nltk_data...\n",
      "[nltk_data]   Package stopwords is already up-to-date!\n"
     ]
    },
    {
     "name": "stdout",
     "output_type": "stream",
     "text": [
      "пять ночей с Фредди,video_8314515\n",
      "\n",
      "пять ночей с Фредди,video_16592220\n",
      "\n",
      "пять ночей с Фредди,video_17756748\n",
      "\n",
      "пять ночей с Фредди,video_12530881\n",
      "\n",
      "пять ночей с Фредди,video_25277342\n",
      "\n"
     ]
    },
    {
     "name": "stderr",
     "output_type": "stream",
     "text": [
      "[nltk_data] Downloading package stopwords to\n",
      "[nltk_data]     /home/jupyter/nltk_data...\n",
      "[nltk_data]   Package stopwords is already up-to-date!\n"
     ]
    },
    {
     "name": "stdout",
     "output_type": "stream",
     "text": [
      "5 ночей с фреди,video_8314515\n",
      "\n",
      "5 ночей с фреди,video_16592220\n",
      "\n",
      "5 ночей с фреди,video_17756748\n",
      "\n",
      "5 ночей с фреди,video_12530881\n",
      "\n",
      "5 ночей с фреди,video_25277342\n",
      "\n"
     ]
    },
    {
     "name": "stderr",
     "output_type": "stream",
     "text": [
      "[nltk_data] Downloading package stopwords to\n",
      "[nltk_data]     /home/jupyter/nltk_data...\n",
      "[nltk_data]   Package stopwords is already up-to-date!\n"
     ]
    },
    {
     "name": "stdout",
     "output_type": "stream",
     "text": [
      "Экстрасенсы. Битва сильнейших, 1 выпуск,video_8314515\n",
      "\n",
      "Экстрасенсы. Битва сильнейших, 1 выпуск,video_16592220\n",
      "\n",
      "Экстрасенсы. Битва сильнейших, 1 выпуск,video_17756748\n",
      "\n",
      "Экстрасенсы. Битва сильнейших, 1 выпуск,video_12530881\n",
      "\n",
      "Экстрасенсы. Битва сильнейших, 1 выпуск,video_25277342\n",
      "\n"
     ]
    },
    {
     "name": "stderr",
     "output_type": "stream",
     "text": [
      "[nltk_data] Downloading package stopwords to\n",
      "[nltk_data]     /home/jupyter/nltk_data...\n",
      "[nltk_data]   Package stopwords is already up-to-date!\n"
     ]
    },
    {
     "name": "stdout",
     "output_type": "stream",
     "text": [
      "цска нижний новгород,video_1543419\n",
      "\n",
      "цска нижний новгород,video_7028036\n",
      "\n",
      "цска нижний новгород,video_11424806\n",
      "\n",
      "цска нижний новгород,video_10988430\n",
      "\n",
      "цска нижний новгород,video_15682138\n",
      "\n"
     ]
    },
    {
     "name": "stderr",
     "output_type": "stream",
     "text": [
      "[nltk_data] Downloading package stopwords to\n",
      "[nltk_data]     /home/jupyter/nltk_data...\n",
      "[nltk_data]   Package stopwords is already up-to-date!\n",
      "[nltk_data] Downloading package stopwords to\n",
      "[nltk_data]     /home/jupyter/nltk_data...\n",
      "[nltk_data]   Package stopwords is already up-to-date!\n"
     ]
    },
    {
     "name": "stdout",
     "output_type": "stream",
     "text": [
      "Экстрасенсы. Битва сильнейших, 8 выпуск,video_8314515\n",
      "\n",
      "Экстрасенсы. Битва сильнейших, 8 выпуск,video_16592220\n",
      "\n",
      "Экстрасенсы. Битва сильнейших, 8 выпуск,video_17756748\n",
      "\n",
      "Экстрасенсы. Битва сильнейших, 8 выпуск,video_12530881\n",
      "\n",
      "Экстрасенсы. Битва сильнейших, 8 выпуск,video_25277342\n",
      "\n"
     ]
    },
    {
     "name": "stderr",
     "output_type": "stream",
     "text": [
      "[nltk_data] Downloading package stopwords to\n",
      "[nltk_data]     /home/jupyter/nltk_data...\n",
      "[nltk_data]   Package stopwords is already up-to-date!\n"
     ]
    },
    {
     "name": "stdout",
     "output_type": "stream",
     "text": [
      "последний герой 3 выпуск,video_8314515\n",
      "\n",
      "последний герой 3 выпуск,video_16592220\n",
      "\n",
      "последний герой 3 выпуск,video_17756748\n",
      "\n",
      "последний герой 3 выпуск,video_12530881\n",
      "\n",
      "последний герой 3 выпуск,video_25277342\n",
      "\n"
     ]
    },
    {
     "name": "stderr",
     "output_type": "stream",
     "text": [
      "[nltk_data] Downloading package stopwords to\n",
      "[nltk_data]     /home/jupyter/nltk_data...\n",
      "[nltk_data]   Package stopwords is already up-to-date!\n",
      "[nltk_data] Downloading package stopwords to\n",
      "[nltk_data]     /home/jupyter/nltk_data...\n",
      "[nltk_data]   Package stopwords is already up-to-date!\n"
     ]
    },
    {
     "name": "stdout",
     "output_type": "stream",
     "text": [
      "битва сильнейших экстрасенсов 2023\\nбитва экстрасенсов\\nсмотреть бесплатно битва сильнейших экстрасенс,video_11978458\n",
      "\n",
      "битва сильнейших экстрасенсов 2023\\nбитва экстрасенсов\\nсмотреть бесплатно битва сильнейших экстрасенс,video_18493556\n",
      "\n",
      "битва сильнейших экстрасенсов 2023\\nбитва экстрасенсов\\nсмотреть бесплатно битва сильнейших экстрасенс,video_9467797\n",
      "\n",
      "битва сильнейших экстрасенсов 2023\\nбитва экстрасенсов\\nсмотреть бесплатно битва сильнейших экстрасенс,video_8394567\n",
      "\n",
      "битва сильнейших экстрасенсов 2023\\nбитва экстрасенсов\\nсмотреть бесплатно битва сильнейших экстрасенс,video_2829093\n",
      "\n"
     ]
    },
    {
     "name": "stderr",
     "output_type": "stream",
     "text": [
      "[nltk_data] Downloading package stopwords to\n",
      "[nltk_data]     /home/jupyter/nltk_data...\n",
      "[nltk_data]   Package stopwords is already up-to-date!\n",
      "[nltk_data] Downloading package stopwords to\n",
      "[nltk_data]     /home/jupyter/nltk_data...\n",
      "[nltk_data]   Package stopwords is already up-to-date!\n"
     ]
    },
    {
     "name": "stdout",
     "output_type": "stream",
     "text": [
      "цска пари нижний новгород 5 11 2022,video_34186884\n",
      "\n",
      "цска пари нижний новгород 5 11 2022,video_14678153\n",
      "\n",
      "цска пари нижний новгород 5 11 2022,video_15707264\n",
      "\n",
      "цска пари нижний новгород 5 11 2022,video_11895823\n",
      "\n",
      "цска пари нижний новгород 5 11 2022,video_32905381\n",
      "\n"
     ]
    },
    {
     "name": "stderr",
     "output_type": "stream",
     "text": [
      "[nltk_data] Downloading package stopwords to\n",
      "[nltk_data]     /home/jupyter/nltk_data...\n",
      "[nltk_data]   Package stopwords is already up-to-date!\n"
     ]
    },
    {
     "name": "stdout",
     "output_type": "stream",
     "text": [
      "битва сильнейших экстрасенсов 23 выпуск,video_8314515\n",
      "\n",
      "битва сильнейших экстрасенсов 23 выпуск,video_16592220\n",
      "\n",
      "битва сильнейших экстрасенсов 23 выпуск,video_17756748\n",
      "\n",
      "битва сильнейших экстрасенсов 23 выпуск,video_12530881\n",
      "\n",
      "битва сильнейших экстрасенсов 23 выпуск,video_25277342\n",
      "\n"
     ]
    },
    {
     "name": "stderr",
     "output_type": "stream",
     "text": [
      "[nltk_data] Downloading package stopwords to\n",
      "[nltk_data]     /home/jupyter/nltk_data...\n",
      "[nltk_data]   Package stopwords is already up-to-date!\n"
     ]
    },
    {
     "name": "stdout",
     "output_type": "stream",
     "text": [
      "Сочи динамо,video_1543419\n",
      "\n",
      "Сочи динамо,video_7028036\n",
      "\n",
      "Сочи динамо,video_11424806\n",
      "\n",
      "Сочи динамо,video_10988430\n",
      "\n",
      "Сочи динамо,video_15682138\n",
      "\n"
     ]
    },
    {
     "name": "stderr",
     "output_type": "stream",
     "text": [
      "[nltk_data] Downloading package stopwords to\n",
      "[nltk_data]     /home/jupyter/nltk_data...\n",
      "[nltk_data]   Package stopwords is already up-to-date!\n"
     ]
    },
    {
     "name": "stdout",
     "output_type": "stream",
     "text": [
      "Звезды в Африке, 3 сезон, 1 выпуск,video_27040412\n",
      "\n",
      "Звезды в Африке, 3 сезон, 1 выпуск,video_8001683\n",
      "\n",
      "Звезды в Африке, 3 сезон, 1 выпуск,video_13912946\n",
      "\n",
      "Звезды в Африке, 3 сезон, 1 выпуск,video_6316369\n",
      "\n",
      "Звезды в Африке, 3 сезон, 1 выпуск,video_18743647\n",
      "\n"
     ]
    },
    {
     "name": "stderr",
     "output_type": "stream",
     "text": [
      "[nltk_data] Downloading package stopwords to\n",
      "[nltk_data]     /home/jupyter/nltk_data...\n",
      "[nltk_data]   Package stopwords is already up-to-date!\n"
     ]
    },
    {
     "name": "stdout",
     "output_type": "stream",
     "text": [
      "слово пацана 1 серия,video_8314515\n",
      "\n",
      "слово пацана 1 серия,video_16592220\n",
      "\n",
      "слово пацана 1 серия,video_17756748\n",
      "\n",
      "слово пацана 1 серия,video_12530881\n",
      "\n",
      "слово пацана 1 серия,video_25277342\n",
      "\n"
     ]
    },
    {
     "name": "stderr",
     "output_type": "stream",
     "text": [
      "[nltk_data] Downloading package stopwords to\n",
      "[nltk_data]     /home/jupyter/nltk_data...\n",
      "[nltk_data]   Package stopwords is already up-to-date!\n"
     ]
    },
    {
     "name": "stdout",
     "output_type": "stream",
     "text": [
      "дабл Бабл,video_1543419\n",
      "\n",
      "дабл Бабл,video_7028036\n",
      "\n",
      "дабл Бабл,video_11424806\n",
      "\n",
      "дабл Бабл,video_10988430\n",
      "\n",
      "дабл Бабл,video_15682138\n",
      "\n"
     ]
    },
    {
     "name": "stderr",
     "output_type": "stream",
     "text": [
      "[nltk_data] Downloading package stopwords to\n",
      "[nltk_data]     /home/jupyter/nltk_data...\n",
      "[nltk_data]   Package stopwords is already up-to-date!\n"
     ]
    },
    {
     "name": "stdout",
     "output_type": "stream",
     "text": [
      "Экстрасенсы. Битва сильнейших,,video_1543419\n",
      "\n",
      "Экстрасенсы. Битва сильнейших,,video_7028036\n",
      "\n",
      "Экстрасенсы. Битва сильнейших,,video_11424806\n",
      "\n",
      "Экстрасенсы. Битва сильнейших,,video_10988430\n",
      "\n",
      "Экстрасенсы. Битва сильнейших,,video_15682138\n",
      "\n"
     ]
    },
    {
     "name": "stderr",
     "output_type": "stream",
     "text": [
      "[nltk_data] Downloading package stopwords to\n",
      "[nltk_data]     /home/jupyter/nltk_data...\n",
      "[nltk_data]   Package stopwords is already up-to-date!\n"
     ]
    },
    {
     "name": "stdout",
     "output_type": "stream",
     "text": [
      "битва сильнейших экстрасенсов\\nбитва экстрасенсов\\nбитва экстрасенсов 2023 смотреть бесплатно,video_11978458\n",
      "\n",
      "битва сильнейших экстрасенсов\\nбитва экстрасенсов\\nбитва экстрасенсов 2023 смотреть бесплатно,video_18493556\n",
      "\n",
      "битва сильнейших экстрасенсов\\nбитва экстрасенсов\\nбитва экстрасенсов 2023 смотреть бесплатно,video_9467797\n",
      "\n",
      "битва сильнейших экстрасенсов\\nбитва экстрасенсов\\nбитва экстрасенсов 2023 смотреть бесплатно,video_2829093\n",
      "\n",
      "битва сильнейших экстрасенсов\\nбитва экстрасенсов\\nбитва экстрасенсов 2023 смотреть бесплатно,video_15596317\n",
      "\n"
     ]
    },
    {
     "name": "stderr",
     "output_type": "stream",
     "text": [
      "[nltk_data] Downloading package stopwords to\n",
      "[nltk_data]     /home/jupyter/nltk_data...\n",
      "[nltk_data]   Package stopwords is already up-to-date!\n"
     ]
    },
    {
     "name": "stdout",
     "output_type": "stream",
     "text": [
      "неспортивный друг,video_1543419\n",
      "\n",
      "неспортивный друг,video_7028036\n",
      "\n",
      "неспортивный друг,video_11424806\n",
      "\n",
      "неспортивный друг,video_10988430\n",
      "\n",
      "неспортивный друг,video_15682138\n",
      "\n"
     ]
    },
    {
     "name": "stderr",
     "output_type": "stream",
     "text": [
      "[nltk_data] Downloading package stopwords to\n",
      "[nltk_data]     /home/jupyter/nltk_data...\n",
      "[nltk_data]   Package stopwords is already up-to-date!\n"
     ]
    },
    {
     "name": "stdout",
     "output_type": "stream",
     "text": [
      "Экстрасенсы. Битва сильнейших, 3 выпуск,video_8314515\n",
      "\n",
      "Экстрасенсы. Битва сильнейших, 3 выпуск,video_18884748\n",
      "\n",
      "Экстрасенсы. Битва сильнейших, 3 выпуск,video_27699855\n",
      "\n",
      "Экстрасенсы. Битва сильнейших, 3 выпуск,video_16592220\n",
      "\n",
      "Экстрасенсы. Битва сильнейших, 3 выпуск,video_17756748\n",
      "\n"
     ]
    },
    {
     "name": "stderr",
     "output_type": "stream",
     "text": [
      "[nltk_data] Downloading package stopwords to\n",
      "[nltk_data]     /home/jupyter/nltk_data...\n",
      "[nltk_data]   Package stopwords is already up-to-date!\n"
     ]
    },
    {
     "name": "stdout",
     "output_type": "stream",
     "text": [
      "мама будет против ,video_1543419\n",
      "\n",
      "мама будет против ,video_7028036\n",
      "\n",
      "мама будет против ,video_11424806\n",
      "\n",
      "мама будет против ,video_10988430\n",
      "\n",
      "мама будет против ,video_15682138\n",
      "\n"
     ]
    },
    {
     "name": "stderr",
     "output_type": "stream",
     "text": [
      "[nltk_data] Downloading package stopwords to\n",
      "[nltk_data]     /home/jupyter/nltk_data...\n",
      "[nltk_data]   Package stopwords is already up-to-date!\n"
     ]
    },
    {
     "name": "stdout",
     "output_type": "stream",
     "text": [
      "ЦСКА пари нн,video_1543419\n",
      "\n",
      "ЦСКА пари нн,video_7028036\n",
      "\n",
      "ЦСКА пари нн,video_11424806\n",
      "\n",
      "ЦСКА пари нн,video_10988430\n",
      "\n",
      "ЦСКА пари нн,video_15682138\n",
      "\n"
     ]
    },
    {
     "name": "stderr",
     "output_type": "stream",
     "text": [
      "[nltk_data] Downloading package stopwords to\n",
      "[nltk_data]     /home/jupyter/nltk_data...\n",
      "[nltk_data]   Package stopwords is already up-to-date!\n"
     ]
    },
    {
     "name": "stdout",
     "output_type": "stream",
     "text": [
      "Лига городов 8 выпуск,video_8314515\n",
      "\n",
      "Лига городов 8 выпуск,video_18884748\n",
      "\n",
      "Лига городов 8 выпуск,video_27699855\n",
      "\n",
      "Лига городов 8 выпуск,video_16592220\n",
      "\n",
      "Лига городов 8 выпуск,video_17756748\n",
      "\n"
     ]
    },
    {
     "name": "stderr",
     "output_type": "stream",
     "text": [
      "[nltk_data] Downloading package stopwords to\n",
      "[nltk_data]     /home/jupyter/nltk_data...\n",
      "[nltk_data]   Package stopwords is already up-to-date!\n"
     ]
    },
    {
     "name": "stdout",
     "output_type": "stream",
     "text": [
      "пацаны с гоблином,video_1543419\n",
      "\n",
      "пацаны с гоблином,video_7028036\n",
      "\n",
      "пацаны с гоблином,video_11424806\n",
      "\n",
      "пацаны с гоблином,video_10988430\n",
      "\n",
      "пацаны с гоблином,video_15682138\n",
      "\n"
     ]
    },
    {
     "name": "stderr",
     "output_type": "stream",
     "text": [
      "[nltk_data] Downloading package stopwords to\n",
      "[nltk_data]     /home/jupyter/nltk_data...\n",
      "[nltk_data]   Package stopwords is already up-to-date!\n"
     ]
    },
    {
     "name": "stdout",
     "output_type": "stream",
     "text": [
      "Сочи Динамо,video_1543419\n",
      "\n",
      "Сочи Динамо,video_7028036\n",
      "\n",
      "Сочи Динамо,video_11424806\n",
      "\n",
      "Сочи Динамо,video_10988430\n",
      "\n",
      "Сочи Динамо,video_15682138\n",
      "\n"
     ]
    },
    {
     "name": "stderr",
     "output_type": "stream",
     "text": [
      "[nltk_data] Downloading package stopwords to\n",
      "[nltk_data]     /home/jupyter/nltk_data...\n",
      "[nltk_data]   Package stopwords is already up-to-date!\n"
     ]
    },
    {
     "name": "stdout",
     "output_type": "stream",
     "text": [
      "Экстрасенсы. Битва сильнейших, 6 выпуск,video_8314515\n",
      "\n",
      "Экстрасенсы. Битва сильнейших, 6 выпуск,video_18884748\n",
      "\n",
      "Экстрасенсы. Битва сильнейших, 6 выпуск,video_27699855\n",
      "\n",
      "Экстрасенсы. Битва сильнейших, 6 выпуск,video_16592220\n",
      "\n",
      "Экстрасенсы. Битва сильнейших, 6 выпуск,video_17756748\n",
      "\n"
     ]
    },
    {
     "name": "stderr",
     "output_type": "stream",
     "text": [
      "[nltk_data] Downloading package stopwords to\n",
      "[nltk_data]     /home/jupyter/nltk_data...\n",
      "[nltk_data]   Package stopwords is already up-to-date!\n"
     ]
    },
    {
     "name": "stdout",
     "output_type": "stream",
     "text": [
      "Экстрасенсы. Битва сильнейших, 7 выпуск,video_8314515\n",
      "\n",
      "Экстрасенсы. Битва сильнейших, 7 выпуск,video_18884748\n",
      "\n",
      "Экстрасенсы. Битва сильнейших, 7 выпуск,video_27699855\n",
      "\n",
      "Экстрасенсы. Битва сильнейших, 7 выпуск,video_16592220\n",
      "\n",
      "Экстрасенсы. Битва сильнейших, 7 выпуск,video_17756748\n",
      "\n"
     ]
    },
    {
     "name": "stderr",
     "output_type": "stream",
     "text": [
      "[nltk_data] Downloading package stopwords to\n",
      "[nltk_data]     /home/jupyter/nltk_data...\n",
      "[nltk_data]   Package stopwords is already up-to-date!\n"
     ]
    },
    {
     "name": "stdout",
     "output_type": "stream",
     "text": [
      "суперстар 4 сезон 2 выпуск,video_8314515\n",
      "\n",
      "суперстар 4 сезон 2 выпуск,video_18884748\n",
      "\n",
      "суперстар 4 сезон 2 выпуск,video_27699855\n",
      "\n",
      "суперстар 4 сезон 2 выпуск,video_16592220\n",
      "\n",
      "суперстар 4 сезон 2 выпуск,video_17756748\n",
      "\n"
     ]
    },
    {
     "name": "stderr",
     "output_type": "stream",
     "text": [
      "[nltk_data] Downloading package stopwords to\n",
      "[nltk_data]     /home/jupyter/nltk_data...\n",
      "[nltk_data]   Package stopwords is already up-to-date!\n",
      "[nltk_data] Downloading package stopwords to\n",
      "[nltk_data]     /home/jupyter/nltk_data...\n",
      "[nltk_data]   Package stopwords is already up-to-date!\n"
     ]
    },
    {
     "name": "stdout",
     "output_type": "stream",
     "text": [
      "Новые Звёзды в Африке, 8 выпуск,video_34186884\n",
      "\n",
      "Новые Звёзды в Африке, 8 выпуск,video_14678153\n",
      "\n",
      "Новые Звёзды в Африке, 8 выпуск,video_11895823\n",
      "\n",
      "Новые Звёзды в Африке, 8 выпуск,video_8394567\n",
      "\n",
      "Новые Звёзды в Африке, 8 выпуск,video_32905381\n",
      "\n"
     ]
    },
    {
     "name": "stderr",
     "output_type": "stream",
     "text": [
      "[nltk_data] Downloading package stopwords to\n",
      "[nltk_data]     /home/jupyter/nltk_data...\n",
      "[nltk_data]   Package stopwords is already up-to-date!\n"
     ]
    },
    {
     "name": "stdout",
     "output_type": "stream",
     "text": [
      "мужское женское 10.11.2023,video_1543419\n",
      "\n",
      "мужское женское 10.11.2023,video_7028036\n",
      "\n",
      "мужское женское 10.11.2023,video_11424806\n",
      "\n",
      "мужское женское 10.11.2023,video_10988430\n",
      "\n",
      "мужское женское 10.11.2023,video_15682138\n",
      "\n"
     ]
    },
    {
     "name": "stderr",
     "output_type": "stream",
     "text": [
      "[nltk_data] Downloading package stopwords to\n",
      "[nltk_data]     /home/jupyter/nltk_data...\n",
      "[nltk_data]   Package stopwords is already up-to-date!\n"
     ]
    },
    {
     "name": "stdout",
     "output_type": "stream",
     "text": [
      "Милан ПСЖ ,video_1543419\n",
      "\n",
      "Милан ПСЖ ,video_7028036\n",
      "\n",
      "Милан ПСЖ ,video_11424806\n",
      "\n",
      "Милан ПСЖ ,video_10988430\n",
      "\n",
      "Милан ПСЖ ,video_15682138\n",
      "\n"
     ]
    },
    {
     "name": "stderr",
     "output_type": "stream",
     "text": [
      "[nltk_data] Downloading package stopwords to\n",
      "[nltk_data]     /home/jupyter/nltk_data...\n",
      "[nltk_data]   Package stopwords is already up-to-date!\n"
     ]
    },
    {
     "name": "stdout",
     "output_type": "stream",
     "text": [
      "мужское женское 13.11.2023,video_1543419\n",
      "\n",
      "мужское женское 13.11.2023,video_7028036\n",
      "\n",
      "мужское женское 13.11.2023,video_11424806\n",
      "\n",
      "мужское женское 13.11.2023,video_10988430\n",
      "\n",
      "мужское женское 13.11.2023,video_15682138\n",
      "\n"
     ]
    },
    {
     "name": "stderr",
     "output_type": "stream",
     "text": [
      "[nltk_data] Downloading package stopwords to\n",
      "[nltk_data]     /home/jupyter/nltk_data...\n",
      "[nltk_data]   Package stopwords is already up-to-date!\n"
     ]
    },
    {
     "name": "stdout",
     "output_type": "stream",
     "text": [
      "слова поцана,video_1543419\n",
      "\n",
      "слова поцана,video_7028036\n",
      "\n",
      "слова поцана,video_11424806\n",
      "\n",
      "слова поцана,video_10988430\n",
      "\n",
      "слова поцана,video_15682138\n",
      "\n"
     ]
    },
    {
     "name": "stderr",
     "output_type": "stream",
     "text": [
      "[nltk_data] Downloading package stopwords to\n",
      "[nltk_data]     /home/jupyter/nltk_data...\n",
      "[nltk_data]   Package stopwords is already up-to-date!\n"
     ]
    },
    {
     "name": "stdout",
     "output_type": "stream",
     "text": [
      "Новые Звёзды в Африке, 7 выпуск,video_34186884\n",
      "\n",
      "Новые Звёзды в Африке, 7 выпуск,video_14678153\n",
      "\n",
      "Новые Звёзды в Африке, 7 выпуск,video_11895823\n",
      "\n",
      "Новые Звёзды в Африке, 7 выпуск,video_8394567\n",
      "\n",
      "Новые Звёзды в Африке, 7 выпуск,video_32905381\n",
      "\n"
     ]
    },
    {
     "name": "stderr",
     "output_type": "stream",
     "text": [
      "[nltk_data] Downloading package stopwords to\n",
      "[nltk_data]     /home/jupyter/nltk_data...\n",
      "[nltk_data]   Package stopwords is already up-to-date!\n"
     ]
    },
    {
     "name": "stdout",
     "output_type": "stream",
     "text": [
      "лига городов 8,video_4689267\n",
      "\n",
      "лига городов 8,video_19251526\n",
      "\n",
      "лига городов 8,video_11779282\n",
      "\n",
      "лига городов 8,video_20719300\n",
      "\n",
      "лига городов 8,video_25826806\n",
      "\n"
     ]
    },
    {
     "name": "stderr",
     "output_type": "stream",
     "text": [
      "[nltk_data] Downloading package stopwords to\n",
      "[nltk_data]     /home/jupyter/nltk_data...\n",
      "[nltk_data]   Package stopwords is already up-to-date!\n"
     ]
    },
    {
     "name": "stdout",
     "output_type": "stream",
     "text": [
      "челси манчестер сити,video_4689267\n",
      "\n",
      "челси манчестер сити,video_19251526\n",
      "\n",
      "челси манчестер сити,video_11779282\n",
      "\n",
      "челси манчестер сити,video_20719300\n",
      "\n",
      "челси манчестер сити,video_25826806\n",
      "\n"
     ]
    },
    {
     "name": "stderr",
     "output_type": "stream",
     "text": [
      "[nltk_data] Downloading package stopwords to\n",
      "[nltk_data]     /home/jupyter/nltk_data...\n",
      "[nltk_data]   Package stopwords is already up-to-date!\n"
     ]
    },
    {
     "name": "stdout",
     "output_type": "stream",
     "text": [
      "мужское женское 07.11.2023,video_1543419\n",
      "\n",
      "мужское женское 07.11.2023,video_7028036\n",
      "\n",
      "мужское женское 07.11.2023,video_11424806\n",
      "\n",
      "мужское женское 07.11.2023,video_10988430\n",
      "\n",
      "мужское женское 07.11.2023,video_15682138\n",
      "\n"
     ]
    },
    {
     "name": "stderr",
     "output_type": "stream",
     "text": [
      "[nltk_data] Downloading package stopwords to\n",
      "[nltk_data]     /home/jupyter/nltk_data...\n",
      "[nltk_data]   Package stopwords is already up-to-date!\n"
     ]
    },
    {
     "name": "stdout",
     "output_type": "stream",
     "text": [
      "Экстрасенсы. Битва сильнейших, 5 выпуск,video_8314515\n",
      "\n",
      "Экстрасенсы. Битва сильнейших, 5 выпуск,video_18884748\n",
      "\n",
      "Экстрасенсы. Битва сильнейших, 5 выпуск,video_27699855\n",
      "\n",
      "Экстрасенсы. Битва сильнейших, 5 выпуск,video_16592220\n",
      "\n",
      "Экстрасенсы. Битва сильнейших, 5 выпуск,video_17756748\n",
      "\n"
     ]
    },
    {
     "name": "stderr",
     "output_type": "stream",
     "text": [
      "[nltk_data] Downloading package stopwords to\n",
      "[nltk_data]     /home/jupyter/nltk_data...\n",
      "[nltk_data]   Package stopwords is already up-to-date!\n",
      "[nltk_data] Downloading package stopwords to\n",
      "[nltk_data]     /home/jupyter/nltk_data...\n",
      "[nltk_data]   Package stopwords is already up-to-date!\n"
     ]
    },
    {
     "name": "stdout",
     "output_type": "stream",
     "text": [
      "битва сильнейших 11.11.2023,video_1543419\n",
      "\n",
      "битва сильнейших 11.11.2023,video_7028036\n",
      "\n",
      "битва сильнейших 11.11.2023,video_11424806\n",
      "\n",
      "битва сильнейших 11.11.2023,video_10988430\n",
      "\n",
      "битва сильнейших 11.11.2023,video_15682138\n",
      "\n"
     ]
    },
    {
     "name": "stderr",
     "output_type": "stream",
     "text": [
      "[nltk_data] Downloading package stopwords to\n",
      "[nltk_data]     /home/jupyter/nltk_data...\n",
      "[nltk_data]   Package stopwords is already up-to-date!\n"
     ]
    },
    {
     "name": "stdout",
     "output_type": "stream",
     "text": [
      "Новые Звёзды в Африке, 2 выпуск,video_34186884\n",
      "\n",
      "Новые Звёзды в Африке, 2 выпуск,video_14678153\n",
      "\n",
      "Новые Звёзды в Африке, 2 выпуск,video_11895823\n",
      "\n",
      "Новые Звёзды в Африке, 2 выпуск,video_8394567\n",
      "\n",
      "Новые Звёзды в Африке, 2 выпуск,video_32905381\n",
      "\n"
     ]
    },
    {
     "name": "stderr",
     "output_type": "stream",
     "text": [
      "[nltk_data] Downloading package stopwords to\n",
      "[nltk_data]     /home/jupyter/nltk_data...\n",
      "[nltk_data]   Package stopwords is already up-to-date!\n"
     ]
    },
    {
     "name": "stdout",
     "output_type": "stream",
     "text": [
      "Новые Звёзды в Африке, 6 выпуск,video_34186884\n",
      "\n",
      "Новые Звёзды в Африке, 6 выпуск,video_14678153\n",
      "\n",
      "Новые Звёзды в Африке, 6 выпуск,video_11895823\n",
      "\n",
      "Новые Звёзды в Африке, 6 выпуск,video_8394567\n",
      "\n",
      "Новые Звёзды в Африке, 6 выпуск,video_32905381\n",
      "\n"
     ]
    },
    {
     "name": "stderr",
     "output_type": "stream",
     "text": [
      "[nltk_data] Downloading package stopwords to\n",
      "[nltk_data]     /home/jupyter/nltk_data...\n",
      "[nltk_data]   Package stopwords is already up-to-date!\n"
     ]
    },
    {
     "name": "stdout",
     "output_type": "stream",
     "text": [
      "5 ночей с фреди ,video_8314515\n",
      "\n",
      "5 ночей с фреди ,video_18884748\n",
      "\n",
      "5 ночей с фреди ,video_27699855\n",
      "\n",
      "5 ночей с фреди ,video_16592220\n",
      "\n",
      "5 ночей с фреди ,video_17756748\n",
      "\n"
     ]
    },
    {
     "name": "stderr",
     "output_type": "stream",
     "text": [
      "[nltk_data] Downloading package stopwords to\n",
      "[nltk_data]     /home/jupyter/nltk_data...\n",
      "[nltk_data]   Package stopwords is already up-to-date!\n",
      "[nltk_data] Downloading package stopwords to\n",
      "[nltk_data]     /home/jupyter/nltk_data...\n",
      "[nltk_data]   Package stopwords is already up-to-date!\n"
     ]
    },
    {
     "name": "stdout",
     "output_type": "stream",
     "text": [
      "битва сильнейших 23 выпуск ,video_8314515\n",
      "\n",
      "битва сильнейших 23 выпуск ,video_18884748\n",
      "\n",
      "битва сильнейших 23 выпуск ,video_27699855\n",
      "\n",
      "битва сильнейших 23 выпуск ,video_16592220\n",
      "\n",
      "битва сильнейших 23 выпуск ,video_17756748\n",
      "\n"
     ]
    },
    {
     "name": "stderr",
     "output_type": "stream",
     "text": [
      "[nltk_data] Downloading package stopwords to\n",
      "[nltk_data]     /home/jupyter/nltk_data...\n",
      "[nltk_data]   Package stopwords is already up-to-date!\n"
     ]
    },
    {
     "name": "stdout",
     "output_type": "stream",
     "text": [
      "Экстрасенсы. Битва сильнейших, 9 выпуск,video_8314515\n",
      "\n",
      "Экстрасенсы. Битва сильнейших, 9 выпуск,video_18884748\n",
      "\n",
      "Экстрасенсы. Битва сильнейших, 9 выпуск,video_27699855\n",
      "\n",
      "Экстрасенсы. Битва сильнейших, 9 выпуск,video_16592220\n",
      "\n",
      "Экстрасенсы. Битва сильнейших, 9 выпуск,video_17756748\n",
      "\n"
     ]
    },
    {
     "name": "stderr",
     "output_type": "stream",
     "text": [
      "[nltk_data] Downloading package stopwords to\n",
      "[nltk_data]     /home/jupyter/nltk_data...\n",
      "[nltk_data]   Package stopwords is already up-to-date!\n"
     ]
    },
    {
     "name": "stdout",
     "output_type": "stream",
     "text": [
      "ЦСКА пари,video_1543419\n",
      "\n",
      "ЦСКА пари,video_7028036\n",
      "\n",
      "ЦСКА пари,video_11424806\n",
      "\n",
      "ЦСКА пари,video_10988430\n",
      "\n",
      "ЦСКА пари,video_15682138\n",
      "\n"
     ]
    },
    {
     "name": "stderr",
     "output_type": "stream",
     "text": [
      "[nltk_data] Downloading package stopwords to\n",
      "[nltk_data]     /home/jupyter/nltk_data...\n",
      "[nltk_data]   Package stopwords is already up-to-date!\n"
     ]
    },
    {
     "name": "stdout",
     "output_type": "stream",
     "text": [
      "Новые Звёзды в Африке, ,video_8314515\n",
      "\n",
      "Новые Звёзды в Африке, ,video_18884748\n",
      "\n",
      "Новые Звёзды в Африке, ,video_27699855\n",
      "\n",
      "Новые Звёзды в Африке, ,video_16592220\n",
      "\n",
      "Новые Звёзды в Африке, ,video_17756748\n",
      "\n"
     ]
    },
    {
     "name": "stderr",
     "output_type": "stream",
     "text": [
      "[nltk_data] Downloading package stopwords to\n",
      "[nltk_data]     /home/jupyter/nltk_data...\n",
      "[nltk_data]   Package stopwords is already up-to-date!\n"
     ]
    },
    {
     "name": "stdout",
     "output_type": "stream",
     "text": [
      "мужское женское 09.11.2023,video_1543419\n",
      "\n",
      "мужское женское 09.11.2023,video_7028036\n",
      "\n",
      "мужское женское 09.11.2023,video_11424806\n",
      "\n",
      "мужское женское 09.11.2023,video_10988430\n",
      "\n",
      "мужское женское 09.11.2023,video_15682138\n",
      "\n"
     ]
    },
    {
     "name": "stderr",
     "output_type": "stream",
     "text": [
      "[nltk_data] Downloading package stopwords to\n",
      "[nltk_data]     /home/jupyter/nltk_data...\n",
      "[nltk_data]   Package stopwords is already up-to-date!\n"
     ]
    },
    {
     "name": "stdout",
     "output_type": "stream",
     "text": [
      "аватар 2 сезон 1 выпуск,video_11978458\n",
      "\n",
      "аватар 2 сезон 1 выпуск,video_18493556\n",
      "\n",
      "аватар 2 сезон 1 выпуск,video_9467797\n",
      "\n",
      "аватар 2 сезон 1 выпуск,video_2829093\n",
      "\n",
      "аватар 2 сезон 1 выпуск,video_15596317\n",
      "\n"
     ]
    },
    {
     "name": "stderr",
     "output_type": "stream",
     "text": [
      "[nltk_data] Downloading package stopwords to\n",
      "[nltk_data]     /home/jupyter/nltk_data...\n",
      "[nltk_data]   Package stopwords is already up-to-date!\n"
     ]
    },
    {
     "name": "stdout",
     "output_type": "stream",
     "text": [
      "ахмат факел,video_1543419\n",
      "\n",
      "ахмат факел,video_7028036\n",
      "\n",
      "ахмат факел,video_11424806\n",
      "\n",
      "ахмат факел,video_10988430\n",
      "\n",
      "ахмат факел,video_15682138\n",
      "\n"
     ]
    },
    {
     "name": "stderr",
     "output_type": "stream",
     "text": [
      "[nltk_data] Downloading package stopwords to\n",
      "[nltk_data]     /home/jupyter/nltk_data...\n",
      "[nltk_data]   Package stopwords is already up-to-date!\n"
     ]
    },
    {
     "name": "stdout",
     "output_type": "stream",
     "text": [
      "аватар шоу 1 сезон,video_8314515\n",
      "\n",
      "аватар шоу 1 сезон,video_18884748\n",
      "\n",
      "аватар шоу 1 сезон,video_27699855\n",
      "\n",
      "аватар шоу 1 сезон,video_16592220\n",
      "\n",
      "аватар шоу 1 сезон,video_17756748\n",
      "\n"
     ]
    },
    {
     "name": "stderr",
     "output_type": "stream",
     "text": [
      "[nltk_data] Downloading package stopwords to\n",
      "[nltk_data]     /home/jupyter/nltk_data...\n",
      "[nltk_data]   Package stopwords is already up-to-date!\n"
     ]
    },
    {
     "name": "stdout",
     "output_type": "stream",
     "text": [
      "слово пацана 2 серия,video_8314515\n",
      "\n",
      "слово пацана 2 серия,video_18884748\n",
      "\n",
      "слово пацана 2 серия,video_27699855\n",
      "\n",
      "слово пацана 2 серия,video_16592220\n",
      "\n",
      "слово пацана 2 серия,video_17756748\n",
      "\n"
     ]
    },
    {
     "name": "stderr",
     "output_type": "stream",
     "text": [
      "[nltk_data] Downloading package stopwords to\n",
      "[nltk_data]     /home/jupyter/nltk_data...\n",
      "[nltk_data]   Package stopwords is already up-to-date!\n"
     ]
    },
    {
     "name": "stdout",
     "output_type": "stream",
     "text": [
      "Новые Звёзды в Африке, 5 выпуск,video_14678153\n",
      "\n",
      "Новые Звёзды в Африке, 5 выпуск,video_16727198\n",
      "\n",
      "Новые Звёзды в Африке, 5 выпуск,video_15707264\n",
      "\n",
      "Новые Звёзды в Африке, 5 выпуск,video_11895823\n",
      "\n",
      "Новые Звёзды в Африке, 5 выпуск,video_8394567\n",
      "\n"
     ]
    },
    {
     "name": "stderr",
     "output_type": "stream",
     "text": [
      "[nltk_data] Downloading package stopwords to\n",
      "[nltk_data]     /home/jupyter/nltk_data...\n",
      "[nltk_data]   Package stopwords is already up-to-date!\n"
     ]
    },
    {
     "name": "stdout",
     "output_type": "stream",
     "text": [
      "Челси Манчестер сити,video_4689267\n",
      "\n",
      "Челси Манчестер сити,video_19251526\n",
      "\n",
      "Челси Манчестер сити,video_11779282\n",
      "\n",
      "Челси Манчестер сити,video_20719300\n",
      "\n",
      "Челси Манчестер сити,video_25826806\n",
      "\n"
     ]
    },
    {
     "name": "stderr",
     "output_type": "stream",
     "text": [
      "[nltk_data] Downloading package stopwords to\n",
      "[nltk_data]     /home/jupyter/nltk_data...\n",
      "[nltk_data]   Package stopwords is already up-to-date!\n",
      "[nltk_data] Downloading package stopwords to\n",
      "[nltk_data]     /home/jupyter/nltk_data...\n",
      "[nltk_data]   Package stopwords is already up-to-date!\n"
     ]
    },
    {
     "name": "stdout",
     "output_type": "stream",
     "text": [
      "владус и Лёня,video_1543419\n",
      "\n",
      "владус и Лёня,video_7028036\n",
      "\n",
      "владус и Лёня,video_11424806\n",
      "\n",
      "владус и Лёня,video_10988430\n",
      "\n",
      "владус и Лёня,video_15682138\n",
      "\n"
     ]
    },
    {
     "name": "stderr",
     "output_type": "stream",
     "text": [
      "[nltk_data] Downloading package stopwords to\n",
      "[nltk_data]     /home/jupyter/nltk_data...\n",
      "[nltk_data]   Package stopwords is already up-to-date!\n",
      "[nltk_data] Downloading package stopwords to\n",
      "[nltk_data]     /home/jupyter/nltk_data...\n",
      "[nltk_data]   Package stopwords is already up-to-date!\n"
     ]
    },
    {
     "name": "stdout",
     "output_type": "stream",
     "text": [
      "дом отдыха ягодка 2 выпуск,video_11978458\n",
      "\n",
      "дом отдыха ягодка 2 выпуск,video_18493556\n",
      "\n",
      "дом отдыха ягодка 2 выпуск,video_9467797\n",
      "\n",
      "дом отдыха ягодка 2 выпуск,video_2829093\n",
      "\n",
      "дом отдыха ягодка 2 выпуск,video_15596317\n",
      "\n"
     ]
    },
    {
     "name": "stderr",
     "output_type": "stream",
     "text": [
      "[nltk_data] Downloading package stopwords to\n",
      "[nltk_data]     /home/jupyter/nltk_data...\n",
      "[nltk_data]   Package stopwords is already up-to-date!\n"
     ]
    },
    {
     "name": "stdout",
     "output_type": "stream",
     "text": [
      "Экстрасенсы. Битва сильнейших, 10 выпуск,video_8314515\n",
      "\n",
      "Экстрасенсы. Битва сильнейших, 10 выпуск,video_18884748\n",
      "\n",
      "Экстрасенсы. Битва сильнейших, 10 выпуск,video_27699855\n",
      "\n",
      "Экстрасенсы. Битва сильнейших, 10 выпуск,video_16592220\n",
      "\n",
      "Экстрасенсы. Битва сильнейших, 10 выпуск,video_17756748\n",
      "\n"
     ]
    },
    {
     "name": "stderr",
     "output_type": "stream",
     "text": [
      "[nltk_data] Downloading package stopwords to\n",
      "[nltk_data]     /home/jupyter/nltk_data...\n",
      "[nltk_data]   Package stopwords is already up-to-date!\n"
     ]
    },
    {
     "name": "stdout",
     "output_type": "stream",
     "text": [
      "битва сильнейших 11.11.23,video_1543419\n",
      "\n",
      "битва сильнейших 11.11.23,video_7028036\n",
      "\n",
      "битва сильнейших 11.11.23,video_11424806\n",
      "\n",
      "битва сильнейших 11.11.23,video_10988430\n",
      "\n",
      "битва сильнейших 11.11.23,video_15682138\n",
      "\n"
     ]
    },
    {
     "name": "stderr",
     "output_type": "stream",
     "text": [
      "[nltk_data] Downloading package stopwords to\n",
      "[nltk_data]     /home/jupyter/nltk_data...\n",
      "[nltk_data]   Package stopwords is already up-to-date!\n"
     ]
    },
    {
     "name": "stdout",
     "output_type": "stream",
     "text": [
      "Экстрасенсы. Битва сильнейших, 11 выпуск,video_8314515\n",
      "\n",
      "Экстрасенсы. Битва сильнейших, 11 выпуск,video_18884748\n",
      "\n",
      "Экстрасенсы. Битва сильнейших, 11 выпуск,video_27699855\n",
      "\n",
      "Экстрасенсы. Битва сильнейших, 11 выпуск,video_16592220\n",
      "\n",
      "Экстрасенсы. Битва сильнейших, 11 выпуск,video_17756748\n",
      "\n"
     ]
    },
    {
     "name": "stderr",
     "output_type": "stream",
     "text": [
      "[nltk_data] Downloading package stopwords to\n",
      "[nltk_data]     /home/jupyter/nltk_data...\n",
      "[nltk_data]   Package stopwords is already up-to-date!\n"
     ]
    },
    {
     "name": "stdout",
     "output_type": "stream",
     "text": [
      "мама будет против 2 серия,video_8314515\n",
      "\n",
      "мама будет против 2 серия,video_18884748\n",
      "\n",
      "мама будет против 2 серия,video_27699855\n",
      "\n",
      "мама будет против 2 серия,video_16592220\n",
      "\n",
      "мама будет против 2 серия,video_17756748\n",
      "\n"
     ]
    },
    {
     "name": "stderr",
     "output_type": "stream",
     "text": [
      "[nltk_data] Downloading package stopwords to\n",
      "[nltk_data]     /home/jupyter/nltk_data...\n",
      "[nltk_data]   Package stopwords is already up-to-date!\n"
     ]
    },
    {
     "name": "stdout",
     "output_type": "stream",
     "text": [
      "аватар 2 сезон 2 выпуск,video_11978458\n",
      "\n",
      "аватар 2 сезон 2 выпуск,video_18493556\n",
      "\n",
      "аватар 2 сезон 2 выпуск,video_9467797\n",
      "\n",
      "аватар 2 сезон 2 выпуск,video_2829093\n",
      "\n",
      "аватар 2 сезон 2 выпуск,video_15596317\n",
      "\n"
     ]
    },
    {
     "name": "stderr",
     "output_type": "stream",
     "text": [
      "[nltk_data] Downloading package stopwords to\n",
      "[nltk_data]     /home/jupyter/nltk_data...\n",
      "[nltk_data]   Package stopwords is already up-to-date!\n"
     ]
    },
    {
     "name": "stdout",
     "output_type": "stream",
     "text": [
      "мужское женское 08.11.2023,video_1543419\n",
      "\n",
      "мужское женское 08.11.2023,video_7028036\n",
      "\n",
      "мужское женское 08.11.2023,video_11424806\n",
      "\n",
      "мужское женское 08.11.2023,video_10988430\n",
      "\n",
      "мужское женское 08.11.2023,video_15682138\n",
      "\n"
     ]
    },
    {
     "name": "stderr",
     "output_type": "stream",
     "text": [
      "[nltk_data] Downloading package stopwords to\n",
      "[nltk_data]     /home/jupyter/nltk_data...\n",
      "[nltk_data]   Package stopwords is already up-to-date!\n"
     ]
    },
    {
     "name": "stdout",
     "output_type": "stream",
     "text": [
      "экстрасенсы битва сильнейших 22 серия,video_8314515\n",
      "\n",
      "экстрасенсы битва сильнейших 22 серия,video_18884748\n",
      "\n",
      "экстрасенсы битва сильнейших 22 серия,video_27699855\n",
      "\n",
      "экстрасенсы битва сильнейших 22 серия,video_16592220\n",
      "\n",
      "экстрасенсы битва сильнейших 22 серия,video_17756748\n",
      "\n"
     ]
    },
    {
     "name": "stderr",
     "output_type": "stream",
     "text": [
      "[nltk_data] Downloading package stopwords to\n",
      "[nltk_data]     /home/jupyter/nltk_data...\n",
      "[nltk_data]   Package stopwords is already up-to-date!\n"
     ]
    },
    {
     "name": "stdout",
     "output_type": "stream",
     "text": [
      "мужское женское 17.11.2023,video_1543419\n",
      "\n",
      "мужское женское 17.11.2023,video_7028036\n",
      "\n",
      "мужское женское 17.11.2023,video_11424806\n",
      "\n",
      "мужское женское 17.11.2023,video_10988430\n",
      "\n",
      "мужское женское 17.11.2023,video_15682138\n",
      "\n"
     ]
    },
    {
     "name": "stderr",
     "output_type": "stream",
     "text": [
      "[nltk_data] Downloading package stopwords to\n",
      "[nltk_data]     /home/jupyter/nltk_data...\n",
      "[nltk_data]   Package stopwords is already up-to-date!\n"
     ]
    },
    {
     "name": "stdout",
     "output_type": "stream",
     "text": [
      "Новые Звёзды в Африке, 10 выпуск,video_14678153\n",
      "\n",
      "Новые Звёзды в Африке, 10 выпуск,video_16727198\n",
      "\n",
      "Новые Звёзды в Африке, 10 выпуск,video_15707264\n",
      "\n",
      "Новые Звёзды в Африке, 10 выпуск,video_11895823\n",
      "\n",
      "Новые Звёзды в Африке, 10 выпуск,video_8394567\n",
      "\n"
     ]
    },
    {
     "name": "stderr",
     "output_type": "stream",
     "text": [
      "[nltk_data] Downloading package stopwords to\n",
      "[nltk_data]     /home/jupyter/nltk_data...\n",
      "[nltk_data]   Package stopwords is already up-to-date!\n"
     ]
    },
    {
     "name": "stdout",
     "output_type": "stream",
     "text": [
      "Экстрасенсы. Битва сильнейших, ,video_1543419\n",
      "\n",
      "Экстрасенсы. Битва сильнейших, ,video_7028036\n",
      "\n",
      "Экстрасенсы. Битва сильнейших, ,video_11424806\n",
      "\n",
      "Экстрасенсы. Битва сильнейших, ,video_10988430\n",
      "\n",
      "Экстрасенсы. Битва сильнейших, ,video_15682138\n",
      "\n"
     ]
    },
    {
     "name": "stderr",
     "output_type": "stream",
     "text": [
      "[nltk_data] Downloading package stopwords to\n",
      "[nltk_data]     /home/jupyter/nltk_data...\n",
      "[nltk_data]   Package stopwords is already up-to-date!\n"
     ]
    },
    {
     "name": "stdout",
     "output_type": "stream",
     "text": [
      "Неспортивный друг,video_1543419\n",
      "\n",
      "Неспортивный друг,video_7028036\n",
      "\n",
      "Неспортивный друг,video_11424806\n",
      "\n",
      "Неспортивный друг,video_10988430\n",
      "\n",
      "Неспортивный друг,video_15682138\n",
      "\n"
     ]
    },
    {
     "name": "stderr",
     "output_type": "stream",
     "text": [
      "[nltk_data] Downloading package stopwords to\n",
      "[nltk_data]     /home/jupyter/nltk_data...\n",
      "[nltk_data]   Package stopwords is already up-to-date!\n"
     ]
    },
    {
     "name": "stdout",
     "output_type": "stream",
     "text": [
      "Экстрасенсы. Битва сильнейших, 22 выпуск,video_8314515\n",
      "\n",
      "Экстрасенсы. Битва сильнейших, 22 выпуск,video_18884748\n",
      "\n",
      "Экстрасенсы. Битва сильнейших, 22 выпуск,video_27699855\n",
      "\n",
      "Экстрасенсы. Битва сильнейших, 22 выпуск,video_16592220\n",
      "\n",
      "Экстрасенсы. Битва сильнейших, 22 выпуск,video_17756748\n",
      "\n"
     ]
    },
    {
     "name": "stderr",
     "output_type": "stream",
     "text": [
      "[nltk_data] Downloading package stopwords to\n",
      "[nltk_data]     /home/jupyter/nltk_data...\n",
      "[nltk_data]   Package stopwords is already up-to-date!\n",
      "[nltk_data] Downloading package stopwords to\n",
      "[nltk_data]     /home/jupyter/nltk_data...\n",
      "[nltk_data]   Package stopwords is already up-to-date!\n"
     ]
    },
    {
     "name": "stdout",
     "output_type": "stream",
     "text": [
      "супер стар 4 сезон 2 выпуск,video_14678153\n",
      "\n",
      "супер стар 4 сезон 2 выпуск,video_16727198\n",
      "\n",
      "супер стар 4 сезон 2 выпуск,video_15707264\n",
      "\n",
      "супер стар 4 сезон 2 выпуск,video_11895823\n",
      "\n",
      "супер стар 4 сезон 2 выпуск,video_8394567\n",
      "\n"
     ]
    },
    {
     "name": "stderr",
     "output_type": "stream",
     "text": [
      "[nltk_data] Downloading package stopwords to\n",
      "[nltk_data]     /home/jupyter/nltk_data...\n",
      "[nltk_data]   Package stopwords is already up-to-date!\n"
     ]
    },
    {
     "name": "stdout",
     "output_type": "stream",
     "text": [
      "5 ночей с Фредди,video_8314515\n",
      "\n",
      "5 ночей с Фредди,video_18884748\n",
      "\n",
      "5 ночей с Фредди,video_27699855\n",
      "\n",
      "5 ночей с Фредди,video_16592220\n",
      "\n",
      "5 ночей с Фредди,video_17756748\n",
      "\n"
     ]
    },
    {
     "name": "stderr",
     "output_type": "stream",
     "text": [
      "[nltk_data] Downloading package stopwords to\n",
      "[nltk_data]     /home/jupyter/nltk_data...\n",
      "[nltk_data]   Package stopwords is already up-to-date!\n",
      "[nltk_data] Downloading package stopwords to\n",
      "[nltk_data]     /home/jupyter/nltk_data...\n",
      "[nltk_data]   Package stopwords is already up-to-date!\n"
     ]
    },
    {
     "name": "stdout",
     "output_type": "stream",
     "text": [
      "Сочи рубин,video_1543419\n",
      "\n",
      "Сочи рубин,video_7028036\n",
      "\n",
      "Сочи рубин,video_11424806\n",
      "\n",
      "Сочи рубин,video_10988430\n",
      "\n",
      "Сочи рубин,video_15682138\n",
      "\n"
     ]
    },
    {
     "name": "stderr",
     "output_type": "stream",
     "text": [
      "[nltk_data] Downloading package stopwords to\n",
      "[nltk_data]     /home/jupyter/nltk_data...\n",
      "[nltk_data]   Package stopwords is already up-to-date!\n"
     ]
    },
    {
     "name": "stdout",
     "output_type": "stream",
     "text": [
      "Новые Звёзды в Африке, 9 выпуск,video_14678153\n",
      "\n",
      "Новые Звёзды в Африке, 9 выпуск,video_16727198\n",
      "\n",
      "Новые Звёзды в Африке, 9 выпуск,video_15707264\n",
      "\n",
      "Новые Звёзды в Африке, 9 выпуск,video_8394567\n",
      "\n",
      "Новые Звёзды в Африке, 9 выпуск,video_32905381\n",
      "\n"
     ]
    },
    {
     "name": "stderr",
     "output_type": "stream",
     "text": [
      "[nltk_data] Downloading package stopwords to\n",
      "[nltk_data]     /home/jupyter/nltk_data...\n",
      "[nltk_data]   Package stopwords is already up-to-date!\n"
     ]
    },
    {
     "name": "stdout",
     "output_type": "stream",
     "text": [
      "праздники 1 серия,video_4689267\n",
      "\n",
      "праздники 1 серия,video_19251526\n",
      "\n",
      "праздники 1 серия,video_11779282\n",
      "\n",
      "праздники 1 серия,video_20719300\n",
      "\n",
      "праздники 1 серия,video_25826806\n",
      "\n"
     ]
    },
    {
     "name": "stderr",
     "output_type": "stream",
     "text": [
      "[nltk_data] Downloading package stopwords to\n",
      "[nltk_data]     /home/jupyter/nltk_data...\n",
      "[nltk_data]   Package stopwords is already up-to-date!\n",
      "[nltk_data] Downloading package stopwords to\n",
      "[nltk_data]     /home/jupyter/nltk_data...\n",
      "[nltk_data]   Package stopwords is already up-to-date!\n"
     ]
    },
    {
     "name": "stdout",
     "output_type": "stream",
     "text": [
      "супер стар 4 сезон 3 выпуск,video_14678153\n",
      "\n",
      "супер стар 4 сезон 3 выпуск,video_16727198\n",
      "\n",
      "супер стар 4 сезон 3 выпуск,video_15707264\n",
      "\n",
      "супер стар 4 сезон 3 выпуск,video_8394567\n",
      "\n",
      "супер стар 4 сезон 3 выпуск,video_32905381\n",
      "\n"
     ]
    },
    {
     "name": "stderr",
     "output_type": "stream",
     "text": [
      "[nltk_data] Downloading package stopwords to\n",
      "[nltk_data]     /home/jupyter/nltk_data...\n",
      "[nltk_data]   Package stopwords is already up-to-date!\n",
      "[nltk_data] Downloading package stopwords to\n",
      "[nltk_data]     /home/jupyter/nltk_data...\n",
      "[nltk_data]   Package stopwords is already up-to-date!\n"
     ]
    },
    {
     "name": "stdout",
     "output_type": "stream",
     "text": [
      "кино Барби,video_1543419\n",
      "\n",
      "кино Барби,video_7028036\n",
      "\n",
      "кино Барби,video_11424806\n",
      "\n",
      "кино Барби,video_10988430\n",
      "\n",
      "кино Барби,video_15682138\n",
      "\n"
     ]
    },
    {
     "name": "stderr",
     "output_type": "stream",
     "text": [
      "[nltk_data] Downloading package stopwords to\n",
      "[nltk_data]     /home/jupyter/nltk_data...\n",
      "[nltk_data]   Package stopwords is already up-to-date!\n"
     ]
    },
    {
     "name": "stdout",
     "output_type": "stream",
     "text": [
      "Новые Звёзды в Африке,,video_8314515\n",
      "\n",
      "Новые Звёзды в Африке,,video_18884748\n",
      "\n",
      "Новые Звёзды в Африке,,video_27699855\n",
      "\n",
      "Новые Звёзды в Африке,,video_16592220\n",
      "\n",
      "Новые Звёзды в Африке,,video_17756748\n",
      "\n"
     ]
    },
    {
     "name": "stderr",
     "output_type": "stream",
     "text": [
      "[nltk_data] Downloading package stopwords to\n",
      "[nltk_data]     /home/jupyter/nltk_data...\n",
      "[nltk_data]   Package stopwords is already up-to-date!\n"
     ]
    },
    {
     "name": "stdout",
     "output_type": "stream",
     "text": [
      "новые звезды в африке 2 сезон 8 серия,video_8001683\n",
      "\n",
      "новые звезды в африке 2 сезон 8 серия,video_13912946\n",
      "\n",
      "новые звезды в африке 2 сезон 8 серия,video_6316369\n",
      "\n",
      "новые звезды в африке 2 сезон 8 серия,video_18743647\n",
      "\n",
      "новые звезды в африке 2 сезон 8 серия,video_22898504\n",
      "\n"
     ]
    },
    {
     "name": "stderr",
     "output_type": "stream",
     "text": [
      "[nltk_data] Downloading package stopwords to\n",
      "[nltk_data]     /home/jupyter/nltk_data...\n",
      "[nltk_data]   Package stopwords is already up-to-date!\n"
     ]
    },
    {
     "name": "stdout",
     "output_type": "stream",
     "text": [
      "Экстрасенсы. Битва сильнейших, 23 выпуск,video_8314515\n",
      "\n",
      "Экстрасенсы. Битва сильнейших, 23 выпуск,video_18884748\n",
      "\n",
      "Экстрасенсы. Битва сильнейших, 23 выпуск,video_27699855\n",
      "\n",
      "Экстрасенсы. Битва сильнейших, 23 выпуск,video_16592220\n",
      "\n",
      "Экстрасенсы. Битва сильнейших, 23 выпуск,video_17756748\n",
      "\n"
     ]
    },
    {
     "name": "stderr",
     "output_type": "stream",
     "text": [
      "[nltk_data] Downloading package stopwords to\n",
      "[nltk_data]     /home/jupyter/nltk_data...\n",
      "[nltk_data]   Package stopwords is already up-to-date!\n"
     ]
    },
    {
     "name": "stdout",
     "output_type": "stream",
     "text": [
      "цска пари нижний новгород 5 ноября,video_11978458\n",
      "\n",
      "цска пари нижний новгород 5 ноября,video_31971672\n",
      "\n",
      "цска пари нижний новгород 5 ноября,video_9467797\n",
      "\n",
      "цска пари нижний новгород 5 ноября,video_31880950\n",
      "\n",
      "цска пари нижний новгород 5 ноября,video_19335015\n",
      "\n"
     ]
    },
    {
     "name": "stderr",
     "output_type": "stream",
     "text": [
      "[nltk_data] Downloading package stopwords to\n",
      "[nltk_data]     /home/jupyter/nltk_data...\n",
      "[nltk_data]   Package stopwords is already up-to-date!\n"
     ]
    },
    {
     "name": "stdout",
     "output_type": "stream",
     "text": [
      "мужское женское 13.11.23,video_1543419\n",
      "\n",
      "мужское женское 13.11.23,video_7028036\n",
      "\n",
      "мужское женское 13.11.23,video_11424806\n",
      "\n",
      "мужское женское 13.11.23,video_10988430\n",
      "\n",
      "мужское женское 13.11.23,video_15682138\n",
      "\n"
     ]
    },
    {
     "name": "stderr",
     "output_type": "stream",
     "text": [
      "[nltk_data] Downloading package stopwords to\n",
      "[nltk_data]     /home/jupyter/nltk_data...\n",
      "[nltk_data]   Package stopwords is already up-to-date!\n"
     ]
    },
    {
     "name": "stdout",
     "output_type": "stream",
     "text": [
      "вызов 2 сезон 4 выпуск,video_11978458\n",
      "\n",
      "вызов 2 сезон 4 выпуск,video_31971672\n",
      "\n",
      "вызов 2 сезон 4 выпуск,video_9467797\n",
      "\n",
      "вызов 2 сезон 4 выпуск,video_31880950\n",
      "\n",
      "вызов 2 сезон 4 выпуск,video_19335015\n",
      "\n"
     ]
    },
    {
     "name": "stderr",
     "output_type": "stream",
     "text": [
      "[nltk_data] Downloading package stopwords to\n",
      "[nltk_data]     /home/jupyter/nltk_data...\n",
      "[nltk_data]   Package stopwords is already up-to-date!\n"
     ]
    },
    {
     "name": "stdout",
     "output_type": "stream",
     "text": [
      "битва сильнейших 22выпуск,video_4689267\n",
      "\n",
      "битва сильнейших 22выпуск,video_19251526\n",
      "\n",
      "битва сильнейших 22выпуск,video_11779282\n",
      "\n",
      "битва сильнейших 22выпуск,video_20719300\n",
      "\n",
      "битва сильнейших 22выпуск,video_25826806\n",
      "\n"
     ]
    },
    {
     "name": "stderr",
     "output_type": "stream",
     "text": [
      "[nltk_data] Downloading package stopwords to\n",
      "[nltk_data]     /home/jupyter/nltk_data...\n",
      "[nltk_data]   Package stopwords is already up-to-date!\n"
     ]
    },
    {
     "name": "stdout",
     "output_type": "stream",
     "text": [
      "фнаф кино,video_1543419\n",
      "\n",
      "фнаф кино,video_7028036\n",
      "\n",
      "фнаф кино,video_11424806\n",
      "\n",
      "фнаф кино,video_10988430\n",
      "\n",
      "фнаф кино,video_15682138\n",
      "\n"
     ]
    },
    {
     "name": "stderr",
     "output_type": "stream",
     "text": [
      "[nltk_data] Downloading package stopwords to\n",
      "[nltk_data]     /home/jupyter/nltk_data...\n",
      "[nltk_data]   Package stopwords is already up-to-date!\n"
     ]
    },
    {
     "name": "stdout",
     "output_type": "stream",
     "text": [
      "фнаф фильм ,video_1543419\n",
      "\n",
      "фнаф фильм ,video_7028036\n",
      "\n",
      "фнаф фильм ,video_11424806\n",
      "\n",
      "фнаф фильм ,video_10988430\n",
      "\n",
      "фнаф фильм ,video_15682138\n",
      "\n"
     ]
    },
    {
     "name": "stderr",
     "output_type": "stream",
     "text": [
      "[nltk_data] Downloading package stopwords to\n",
      "[nltk_data]     /home/jupyter/nltk_data...\n",
      "[nltk_data]   Package stopwords is already up-to-date!\n"
     ]
    },
    {
     "name": "stdout",
     "output_type": "stream",
     "text": [
      "Челси сити,video_1543419\n",
      "\n",
      "Челси сити,video_7028036\n",
      "\n",
      "Челси сити,video_11424806\n",
      "\n",
      "Челси сити,video_10988430\n",
      "\n",
      "Челси сити,video_15682138\n",
      "\n"
     ]
    },
    {
     "name": "stderr",
     "output_type": "stream",
     "text": [
      "[nltk_data] Downloading package stopwords to\n",
      "[nltk_data]     /home/jupyter/nltk_data...\n",
      "[nltk_data]   Package stopwords is already up-to-date!\n"
     ]
    },
    {
     "name": "stdout",
     "output_type": "stream",
     "text": [
      "пять ночей с Фредди ,video_8314515\n",
      "\n",
      "пять ночей с Фредди ,video_18884748\n",
      "\n",
      "пять ночей с Фредди ,video_27699855\n",
      "\n",
      "пять ночей с Фредди ,video_16592220\n",
      "\n",
      "пять ночей с Фредди ,video_17756748\n",
      "\n"
     ]
    },
    {
     "name": "stderr",
     "output_type": "stream",
     "text": [
      "[nltk_data] Downloading package stopwords to\n",
      "[nltk_data]     /home/jupyter/nltk_data...\n",
      "[nltk_data]   Package stopwords is already up-to-date!\n"
     ]
    },
    {
     "name": "stdout",
     "output_type": "stream",
     "text": [
      "последний герой выпуск 2,video_8314515\n",
      "\n",
      "последний герой выпуск 2,video_18884748\n",
      "\n",
      "последний герой выпуск 2,video_27699855\n",
      "\n",
      "последний герой выпуск 2,video_16592220\n",
      "\n",
      "последний герой выпуск 2,video_17756748\n",
      "\n"
     ]
    },
    {
     "name": "stderr",
     "output_type": "stream",
     "text": [
      "[nltk_data] Downloading package stopwords to\n",
      "[nltk_data]     /home/jupyter/nltk_data...\n",
      "[nltk_data]   Package stopwords is already up-to-date!\n"
     ]
    },
    {
     "name": "stdout",
     "output_type": "stream",
     "text": [
      "Последний герой 3 выпуск,video_8314515\n",
      "\n",
      "Последний герой 3 выпуск,video_18884748\n",
      "\n",
      "Последний герой 3 выпуск,video_27699855\n",
      "\n",
      "Последний герой 3 выпуск,video_16592220\n",
      "\n",
      "Последний герой 3 выпуск,video_17756748\n",
      "\n"
     ]
    },
    {
     "name": "stderr",
     "output_type": "stream",
     "text": [
      "[nltk_data] Downloading package stopwords to\n",
      "[nltk_data]     /home/jupyter/nltk_data...\n",
      "[nltk_data]   Package stopwords is already up-to-date!\n"
     ]
    },
    {
     "name": "stdout",
     "output_type": "stream",
     "text": [
      "Лига городов 8,video_4689267\n",
      "\n",
      "Лига городов 8,video_19251526\n",
      "\n",
      "Лига городов 8,video_11779282\n",
      "\n",
      "Лига городов 8,video_20719300\n",
      "\n",
      "Лига городов 8,video_25826806\n",
      "\n"
     ]
    },
    {
     "name": "stderr",
     "output_type": "stream",
     "text": [
      "[nltk_data] Downloading package stopwords to\n",
      "[nltk_data]     /home/jupyter/nltk_data...\n",
      "[nltk_data]   Package stopwords is already up-to-date!\n",
      "[nltk_data] Downloading package stopwords to\n",
      "[nltk_data]     /home/jupyter/nltk_data...\n",
      "[nltk_data]   Package stopwords is already up-to-date!\n"
     ]
    },
    {
     "name": "stdout",
     "output_type": "stream",
     "text": [
      "света и Богдан,video_1543419\n",
      "\n",
      "света и Богдан,video_7028036\n",
      "\n",
      "света и Богдан,video_11424806\n",
      "\n",
      "света и Богдан,video_10988430\n",
      "\n",
      "света и Богдан,video_15682138\n",
      "\n"
     ]
    },
    {
     "name": "stderr",
     "output_type": "stream",
     "text": [
      "[nltk_data] Downloading package stopwords to\n",
      "[nltk_data]     /home/jupyter/nltk_data...\n",
      "[nltk_data]   Package stopwords is already up-to-date!\n"
     ]
    },
    {
     "name": "stdout",
     "output_type": "stream",
     "text": [
      "мужское / женское новые выпуски,video_8314515\n",
      "\n",
      "мужское / женское новые выпуски,video_18884748\n",
      "\n",
      "мужское / женское новые выпуски,video_27699855\n",
      "\n",
      "мужское / женское новые выпуски,video_16592220\n",
      "\n",
      "мужское / женское новые выпуски,video_17756748\n",
      "\n"
     ]
    },
    {
     "name": "stderr",
     "output_type": "stream",
     "text": [
      "[nltk_data] Downloading package stopwords to\n",
      "[nltk_data]     /home/jupyter/nltk_data...\n",
      "[nltk_data]   Package stopwords is already up-to-date!\n",
      "[nltk_data] Downloading package stopwords to\n",
      "[nltk_data]     /home/jupyter/nltk_data...\n",
      "[nltk_data]   Package stopwords is already up-to-date!\n"
     ]
    },
    {
     "name": "stdout",
     "output_type": "stream",
     "text": [
      "Экстрасенсы. Битва сильнейших, 21 выпуск,video_8314515\n",
      "\n",
      "Экстрасенсы. Битва сильнейших, 21 выпуск,video_18884748\n",
      "\n",
      "Экстрасенсы. Битва сильнейших, 21 выпуск,video_27699855\n",
      "\n",
      "Экстрасенсы. Битва сильнейших, 21 выпуск,video_16592220\n",
      "\n",
      "Экстрасенсы. Битва сильнейших, 21 выпуск,video_17756748\n",
      "\n"
     ]
    },
    {
     "name": "stderr",
     "output_type": "stream",
     "text": [
      "[nltk_data] Downloading package stopwords to\n",
      "[nltk_data]     /home/jupyter/nltk_data...\n",
      "[nltk_data]   Package stopwords is already up-to-date!\n"
     ]
    },
    {
     "name": "stdout",
     "output_type": "stream",
     "text": [
      "Экстрасенсы битва сильнейших 23 выпуск,video_8314515\n",
      "\n",
      "Экстрасенсы битва сильнейших 23 выпуск,video_18884748\n",
      "\n",
      "Экстрасенсы битва сильнейших 23 выпуск,video_27699855\n",
      "\n",
      "Экстрасенсы битва сильнейших 23 выпуск,video_16592220\n",
      "\n",
      "Экстрасенсы битва сильнейших 23 выпуск,video_17756748\n",
      "\n"
     ]
    },
    {
     "name": "stderr",
     "output_type": "stream",
     "text": [
      "[nltk_data] Downloading package stopwords to\n",
      "[nltk_data]     /home/jupyter/nltk_data...\n",
      "[nltk_data]   Package stopwords is already up-to-date!\n"
     ]
    },
    {
     "name": "stdout",
     "output_type": "stream",
     "text": [
      "Влада 4,video_1543419\n",
      "\n",
      "Влада 4,video_7028036\n",
      "\n",
      "Влада 4,video_11424806\n",
      "\n",
      "Влада 4,video_10988430\n",
      "\n",
      "Влада 4,video_15682138\n",
      "\n"
     ]
    },
    {
     "name": "stderr",
     "output_type": "stream",
     "text": [
      "[nltk_data] Downloading package stopwords to\n",
      "[nltk_data]     /home/jupyter/nltk_data...\n",
      "[nltk_data]   Package stopwords is already up-to-date!\n"
     ]
    },
    {
     "name": "stdout",
     "output_type": "stream",
     "text": [
      "ЦСКА пари не,video_1543419\n",
      "\n",
      "ЦСКА пари не,video_7028036\n",
      "\n",
      "ЦСКА пари не,video_11424806\n",
      "\n",
      "ЦСКА пари не,video_10988430\n",
      "\n",
      "ЦСКА пари не,video_15682138\n",
      "\n"
     ]
    },
    {
     "name": "stderr",
     "output_type": "stream",
     "text": [
      "[nltk_data] Downloading package stopwords to\n",
      "[nltk_data]     /home/jupyter/nltk_data...\n",
      "[nltk_data]   Package stopwords is already up-to-date!\n"
     ]
    },
    {
     "name": "stdout",
     "output_type": "stream",
     "text": [
      "слово пацана ,video_1543419\n",
      "\n",
      "слово пацана ,video_7028036\n",
      "\n",
      "слово пацана ,video_11424806\n",
      "\n",
      "слово пацана ,video_10988430\n",
      "\n",
      "слово пацана ,video_15682138\n",
      "\n"
     ]
    },
    {
     "name": "stderr",
     "output_type": "stream",
     "text": [
      "[nltk_data] Downloading package stopwords to\n",
      "[nltk_data]     /home/jupyter/nltk_data...\n",
      "[nltk_data]   Package stopwords is already up-to-date!\n"
     ]
    },
    {
     "name": "stdout",
     "output_type": "stream",
     "text": [
      "мужское женское 10.11.23,video_1543419\n",
      "\n",
      "мужское женское 10.11.23,video_7028036\n",
      "\n",
      "мужское женское 10.11.23,video_11424806\n",
      "\n",
      "мужское женское 10.11.23,video_10988430\n",
      "\n",
      "мужское женское 10.11.23,video_15682138\n",
      "\n"
     ]
    },
    {
     "name": "stderr",
     "output_type": "stream",
     "text": [
      "[nltk_data] Downloading package stopwords to\n",
      "[nltk_data]     /home/jupyter/nltk_data...\n",
      "[nltk_data]   Package stopwords is already up-to-date!\n"
     ]
    },
    {
     "name": "stdout",
     "output_type": "stream",
     "text": [
      "Лаки бобо,video_1543419\n",
      "\n",
      "Лаки бобо,video_7028036\n",
      "\n",
      "Лаки бобо,video_11424806\n",
      "\n",
      "Лаки бобо,video_10988430\n",
      "\n",
      "Лаки бобо,video_15682138\n",
      "\n"
     ]
    },
    {
     "name": "stderr",
     "output_type": "stream",
     "text": [
      "[nltk_data] Downloading package stopwords to\n",
      "[nltk_data]     /home/jupyter/nltk_data...\n",
      "[nltk_data]   Package stopwords is already up-to-date!\n"
     ]
    },
    {
     "name": "stdout",
     "output_type": "stream",
     "text": [
      "Экстрасенсы. Битва сильнейших, 13 выпуск,video_4689267\n",
      "\n",
      "Экстрасенсы. Битва сильнейших, 13 выпуск,video_19251526\n",
      "\n",
      "Экстрасенсы. Битва сильнейших, 13 выпуск,video_11779282\n",
      "\n",
      "Экстрасенсы. Битва сильнейших, 13 выпуск,video_20719300\n",
      "\n",
      "Экстрасенсы. Битва сильнейших, 13 выпуск,video_25826806\n",
      "\n"
     ]
    },
    {
     "name": "stderr",
     "output_type": "stream",
     "text": [
      "[nltk_data] Downloading package stopwords to\n",
      "[nltk_data]     /home/jupyter/nltk_data...\n",
      "[nltk_data]   Package stopwords is already up-to-date!\n"
     ]
    },
    {
     "name": "stdout",
     "output_type": "stream",
     "text": [
      "супер стар 4 сезон 1 выпуск,video_14678153\n",
      "\n",
      "супер стар 4 сезон 1 выпуск,video_18493556\n",
      "\n",
      "супер стар 4 сезон 1 выпуск,video_9467797\n",
      "\n",
      "супер стар 4 сезон 1 выпуск,video_8394567\n",
      "\n",
      "супер стар 4 сезон 1 выпуск,video_2829093\n",
      "\n"
     ]
    },
    {
     "name": "stderr",
     "output_type": "stream",
     "text": [
      "[nltk_data] Downloading package stopwords to\n",
      "[nltk_data]     /home/jupyter/nltk_data...\n",
      "[nltk_data]   Package stopwords is already up-to-date!\n"
     ]
    },
    {
     "name": "stdout",
     "output_type": "stream",
     "text": [
      "плакса 8 серия,video_5751987\n",
      "\n",
      "плакса 8 серия,video_333085\n",
      "\n",
      "плакса 8 серия,video_30067725\n",
      "\n",
      "плакса 8 серия,video_33160200\n",
      "\n",
      "плакса 8 серия,video_19494281\n",
      "\n"
     ]
    },
    {
     "name": "stderr",
     "output_type": "stream",
     "text": [
      "[nltk_data] Downloading package stopwords to\n",
      "[nltk_data]     /home/jupyter/nltk_data...\n",
      "[nltk_data]   Package stopwords is already up-to-date!\n"
     ]
    },
    {
     "name": "stdout",
     "output_type": "stream",
     "text": [
      "битва экстрасенсов 11 ноября 2023,video_4689267\n",
      "\n",
      "битва экстрасенсов 11 ноября 2023,video_19251526\n",
      "\n",
      "битва экстрасенсов 11 ноября 2023,video_11779282\n",
      "\n",
      "битва экстрасенсов 11 ноября 2023,video_20719300\n",
      "\n",
      "битва экстрасенсов 11 ноября 2023,video_25826806\n",
      "\n"
     ]
    },
    {
     "name": "stderr",
     "output_type": "stream",
     "text": [
      "[nltk_data] Downloading package stopwords to\n",
      "[nltk_data]     /home/jupyter/nltk_data...\n",
      "[nltk_data]   Package stopwords is already up-to-date!\n"
     ]
    },
    {
     "name": "stdout",
     "output_type": "stream",
     "text": [
      "ягодка 2 выпуск,video_5751987\n",
      "\n",
      "ягодка 2 выпуск,video_333085\n",
      "\n",
      "ягодка 2 выпуск,video_30067725\n",
      "\n",
      "ягодка 2 выпуск,video_33160200\n",
      "\n",
      "ягодка 2 выпуск,video_19494281\n",
      "\n"
     ]
    },
    {
     "name": "stderr",
     "output_type": "stream",
     "text": [
      "[nltk_data] Downloading package stopwords to\n",
      "[nltk_data]     /home/jupyter/nltk_data...\n",
      "[nltk_data]   Package stopwords is already up-to-date!\n"
     ]
    },
    {
     "name": "stdout",
     "output_type": "stream",
     "text": [
      "цска пари,video_1543419\n",
      "\n",
      "цска пари,video_7028036\n",
      "\n",
      "цска пари,video_11424806\n",
      "\n",
      "цска пари,video_10988430\n",
      "\n",
      "цска пари,video_15682138\n",
      "\n"
     ]
    },
    {
     "name": "stderr",
     "output_type": "stream",
     "text": [
      "[nltk_data] Downloading package stopwords to\n",
      "[nltk_data]     /home/jupyter/nltk_data...\n",
      "[nltk_data]   Package stopwords is already up-to-date!\n"
     ]
    },
    {
     "name": "stdout",
     "output_type": "stream",
     "text": [
      "битва сильнейших 23выпуск,video_5751987\n",
      "\n",
      "битва сильнейших 23выпуск,video_333085\n",
      "\n",
      "битва сильнейших 23выпуск,video_30067725\n",
      "\n",
      "битва сильнейших 23выпуск,video_33160200\n",
      "\n",
      "битва сильнейших 23выпуск,video_19494281\n",
      "\n"
     ]
    },
    {
     "name": "stderr",
     "output_type": "stream",
     "text": [
      "[nltk_data] Downloading package stopwords to\n",
      "[nltk_data]     /home/jupyter/nltk_data...\n",
      "[nltk_data]   Package stopwords is already up-to-date!\n"
     ]
    },
    {
     "name": "stdout",
     "output_type": "stream",
     "text": [
      "Челси ман сити,video_5751987\n",
      "\n",
      "Челси ман сити,video_333085\n",
      "\n",
      "Челси ман сити,video_30067725\n",
      "\n",
      "Челси ман сити,video_33160200\n",
      "\n",
      "Челси ман сити,video_19494281\n",
      "\n"
     ]
    },
    {
     "name": "stderr",
     "output_type": "stream",
     "text": [
      "[nltk_data] Downloading package stopwords to\n",
      "[nltk_data]     /home/jupyter/nltk_data...\n",
      "[nltk_data]   Package stopwords is already up-to-date!\n"
     ]
    },
    {
     "name": "stdout",
     "output_type": "stream",
     "text": [
      "Звезды в Африке, 3 сезон, 12 выпуск,video_34186884\n",
      "\n",
      "Звезды в Африке, 3 сезон, 12 выпуск,video_27040412\n",
      "\n",
      "Звезды в Африке, 3 сезон, 12 выпуск,video_11895823\n",
      "\n",
      "Звезды в Африке, 3 сезон, 12 выпуск,video_29904328\n",
      "\n",
      "Звезды в Африке, 3 сезон, 12 выпуск,video_32905381\n",
      "\n"
     ]
    },
    {
     "name": "stderr",
     "output_type": "stream",
     "text": [
      "[nltk_data] Downloading package stopwords to\n",
      "[nltk_data]     /home/jupyter/nltk_data...\n",
      "[nltk_data]   Package stopwords is already up-to-date!\n"
     ]
    },
    {
     "name": "stdout",
     "output_type": "stream",
     "text": [
      "мужское женское 06.11.2023,video_1543419\n",
      "\n",
      "мужское женское 06.11.2023,video_7028036\n",
      "\n",
      "мужское женское 06.11.2023,video_11424806\n",
      "\n",
      "мужское женское 06.11.2023,video_10988430\n",
      "\n",
      "мужское женское 06.11.2023,video_15682138\n",
      "\n"
     ]
    },
    {
     "name": "stderr",
     "output_type": "stream",
     "text": [
      "[nltk_data] Downloading package stopwords to\n",
      "[nltk_data]     /home/jupyter/nltk_data...\n",
      "[nltk_data]   Package stopwords is already up-to-date!\n"
     ]
    },
    {
     "name": "stdout",
     "output_type": "stream",
     "text": [
      "шоу воли 29 выпуск,video_4689267\n",
      "\n",
      "шоу воли 29 выпуск,video_19251526\n",
      "\n",
      "шоу воли 29 выпуск,video_11779282\n",
      "\n",
      "шоу воли 29 выпуск,video_20719300\n",
      "\n",
      "шоу воли 29 выпуск,video_25826806\n",
      "\n"
     ]
    },
    {
     "name": "stderr",
     "output_type": "stream",
     "text": [
      "[nltk_data] Downloading package stopwords to\n",
      "[nltk_data]     /home/jupyter/nltk_data...\n",
      "[nltk_data]   Package stopwords is already up-to-date!\n"
     ]
    },
    {
     "name": "stdout",
     "output_type": "stream",
     "text": [
      "нубик в Майнкрафте,video_1543419\n",
      "\n",
      "нубик в Майнкрафте,video_7028036\n",
      "\n",
      "нубик в Майнкрафте,video_11424806\n",
      "\n",
      "нубик в Майнкрафте,video_10988430\n",
      "\n",
      "нубик в Майнкрафте,video_9150521\n",
      "\n"
     ]
    },
    {
     "name": "stderr",
     "output_type": "stream",
     "text": [
      "[nltk_data] Downloading package stopwords to\n",
      "[nltk_data]     /home/jupyter/nltk_data...\n",
      "[nltk_data]   Package stopwords is already up-to-date!\n"
     ]
    },
    {
     "name": "stdout",
     "output_type": "stream",
     "text": [
      "гоблин пацаны,video_1543419\n",
      "\n",
      "гоблин пацаны,video_7028036\n",
      "\n",
      "гоблин пацаны,video_11424806\n",
      "\n",
      "гоблин пацаны,video_10988430\n",
      "\n",
      "гоблин пацаны,video_9150521\n",
      "\n"
     ]
    },
    {
     "name": "stderr",
     "output_type": "stream",
     "text": [
      "[nltk_data] Downloading package stopwords to\n",
      "[nltk_data]     /home/jupyter/nltk_data...\n",
      "[nltk_data]   Package stopwords is already up-to-date!\n"
     ]
    },
    {
     "name": "stdout",
     "output_type": "stream",
     "text": [
      "челси ман сити,video_333085\n",
      "\n",
      "челси ман сити,video_30067725\n",
      "\n",
      "челси ман сити,video_33160200\n",
      "\n",
      "челси ман сити,video_19494281\n",
      "\n",
      "челси ман сити,video_19780950\n",
      "\n"
     ]
    },
    {
     "name": "stderr",
     "output_type": "stream",
     "text": [
      "[nltk_data] Downloading package stopwords to\n",
      "[nltk_data]     /home/jupyter/nltk_data...\n",
      "[nltk_data]   Package stopwords is already up-to-date!\n"
     ]
    },
    {
     "name": "stdout",
     "output_type": "stream",
     "text": [
      "мужское женское ноябрь,video_333085\n",
      "\n",
      "мужское женское ноябрь,video_30067725\n",
      "\n",
      "мужское женское ноябрь,video_33160200\n",
      "\n",
      "мужское женское ноябрь,video_19494281\n",
      "\n",
      "мужское женское ноябрь,video_19780950\n",
      "\n"
     ]
    },
    {
     "name": "stderr",
     "output_type": "stream",
     "text": [
      "[nltk_data] Downloading package stopwords to\n",
      "[nltk_data]     /home/jupyter/nltk_data...\n",
      "[nltk_data]   Package stopwords is already up-to-date!\n"
     ]
    },
    {
     "name": "stdout",
     "output_type": "stream",
     "text": [
      "Последний герой остаться семьей 1 выпуск,video_14678153\n",
      "\n",
      "Последний герой остаться семьей 1 выпуск,video_18493556\n",
      "\n",
      "Последний герой остаться семьей 1 выпуск,video_9467797\n",
      "\n",
      "Последний герой остаться семьей 1 выпуск,video_8394567\n",
      "\n",
      "Последний герой остаться семьей 1 выпуск,video_2829093\n",
      "\n"
     ]
    },
    {
     "name": "stderr",
     "output_type": "stream",
     "text": [
      "[nltk_data] Downloading package stopwords to\n",
      "[nltk_data]     /home/jupyter/nltk_data...\n",
      "[nltk_data]   Package stopwords is already up-to-date!\n"
     ]
    },
    {
     "name": "stdout",
     "output_type": "stream",
     "text": [
      "супер стар возвращение 4 сезон,video_11978458\n",
      "\n",
      "супер стар возвращение 4 сезон,video_31971672\n",
      "\n",
      "супер стар возвращение 4 сезон,video_16592220\n",
      "\n",
      "супер стар возвращение 4 сезон,video_17756748\n",
      "\n",
      "супер стар возвращение 4 сезон,video_12530881\n",
      "\n"
     ]
    },
    {
     "name": "stderr",
     "output_type": "stream",
     "text": [
      "[nltk_data] Downloading package stopwords to\n",
      "[nltk_data]     /home/jupyter/nltk_data...\n",
      "[nltk_data]   Package stopwords is already up-to-date!\n",
      "[nltk_data] Downloading package stopwords to\n",
      "[nltk_data]     /home/jupyter/nltk_data...\n",
      "[nltk_data]   Package stopwords is already up-to-date!\n"
     ]
    },
    {
     "name": "stdout",
     "output_type": "stream",
     "text": [
      "Экстрасенсы. Битва сильнейших, 12 выпуск,video_4689267\n",
      "\n",
      "Экстрасенсы. Битва сильнейших, 12 выпуск,video_19251526\n",
      "\n",
      "Экстрасенсы. Битва сильнейших, 12 выпуск,video_11779282\n",
      "\n",
      "Экстрасенсы. Битва сильнейших, 12 выпуск,video_20719300\n",
      "\n",
      "Экстрасенсы. Битва сильнейших, 12 выпуск,video_25826806\n",
      "\n"
     ]
    },
    {
     "name": "stderr",
     "output_type": "stream",
     "text": [
      "[nltk_data] Downloading package stopwords to\n",
      "[nltk_data]     /home/jupyter/nltk_data...\n",
      "[nltk_data]   Package stopwords is already up-to-date!\n",
      "[nltk_data] Downloading package stopwords to\n",
      "[nltk_data]     /home/jupyter/nltk_data...\n",
      "[nltk_data]   Package stopwords is already up-to-date!\n"
     ]
    },
    {
     "name": "stdout",
     "output_type": "stream",
     "text": [
      "битва сильнейших 11.11,video_333085\n",
      "\n",
      "битва сильнейших 11.11,video_30067725\n",
      "\n",
      "битва сильнейших 11.11,video_33160200\n",
      "\n",
      "битва сильнейших 11.11,video_19494281\n",
      "\n",
      "битва сильнейших 11.11,video_19780950\n",
      "\n"
     ]
    },
    {
     "name": "stderr",
     "output_type": "stream",
     "text": [
      "[nltk_data] Downloading package stopwords to\n",
      "[nltk_data]     /home/jupyter/nltk_data...\n",
      "[nltk_data]   Package stopwords is already up-to-date!\n"
     ]
    },
    {
     "name": "stdout",
     "output_type": "stream",
     "text": [
      "выдра сериал,video_1543419\n",
      "\n",
      "выдра сериал,video_7028036\n",
      "\n",
      "выдра сериал,video_11424806\n",
      "\n",
      "выдра сериал,video_10988430\n",
      "\n",
      "выдра сериал,video_9150521\n",
      "\n"
     ]
    },
    {
     "name": "stderr",
     "output_type": "stream",
     "text": [
      "[nltk_data] Downloading package stopwords to\n",
      "[nltk_data]     /home/jupyter/nltk_data...\n",
      "[nltk_data]   Package stopwords is already up-to-date!\n"
     ]
    },
    {
     "name": "stdout",
     "output_type": "stream",
     "text": [
      "мужское женское 20.11.2023,video_1543419\n",
      "\n",
      "мужское женское 20.11.2023,video_7028036\n",
      "\n",
      "мужское женское 20.11.2023,video_11424806\n",
      "\n",
      "мужское женское 20.11.2023,video_10988430\n",
      "\n",
      "мужское женское 20.11.2023,video_9150521\n",
      "\n"
     ]
    },
    {
     "name": "stderr",
     "output_type": "stream",
     "text": [
      "[nltk_data] Downloading package stopwords to\n",
      "[nltk_data]     /home/jupyter/nltk_data...\n",
      "[nltk_data]   Package stopwords is already up-to-date!\n"
     ]
    },
    {
     "name": "stdout",
     "output_type": "stream",
     "text": [
      "Сочи Динамо ,video_1543419\n",
      "\n",
      "Сочи Динамо ,video_7028036\n",
      "\n",
      "Сочи Динамо ,video_11424806\n",
      "\n",
      "Сочи Динамо ,video_10988430\n",
      "\n",
      "Сочи Динамо ,video_9150521\n",
      "\n"
     ]
    },
    {
     "name": "stderr",
     "output_type": "stream",
     "text": [
      "[nltk_data] Downloading package stopwords to\n",
      "[nltk_data]     /home/jupyter/nltk_data...\n",
      "[nltk_data]   Package stopwords is already up-to-date!\n"
     ]
    },
    {
     "name": "stdout",
     "output_type": "stream",
     "text": [
      "Мама будет против ,video_1543419\n",
      "\n",
      "Мама будет против ,video_7028036\n",
      "\n",
      "Мама будет против ,video_11424806\n",
      "\n",
      "Мама будет против ,video_10988430\n",
      "\n",
      "Мама будет против ,video_9150521\n",
      "\n"
     ]
    },
    {
     "name": "stderr",
     "output_type": "stream",
     "text": [
      "[nltk_data] Downloading package stopwords to\n",
      "[nltk_data]     /home/jupyter/nltk_data...\n",
      "[nltk_data]   Package stopwords is already up-to-date!\n"
     ]
    },
    {
     "name": "stdout",
     "output_type": "stream",
     "text": [
      "шоу воли агзамов,video_1543419\n",
      "\n",
      "шоу воли агзамов,video_7028036\n",
      "\n",
      "шоу воли агзамов,video_11424806\n",
      "\n",
      "шоу воли агзамов,video_10988430\n",
      "\n",
      "шоу воли агзамов,video_9150521\n",
      "\n"
     ]
    },
    {
     "name": "stderr",
     "output_type": "stream",
     "text": [
      "[nltk_data] Downloading package stopwords to\n",
      "[nltk_data]     /home/jupyter/nltk_data...\n",
      "[nltk_data]   Package stopwords is already up-to-date!\n"
     ]
    },
    {
     "name": "stdout",
     "output_type": "stream",
     "text": [
      "Звезды в Африке, 3 сезон, 7 выпуск,video_34186884\n",
      "\n",
      "Звезды в Африке, 3 сезон, 7 выпуск,video_14525623\n",
      "\n",
      "Звезды в Африке, 3 сезон, 7 выпуск,video_11895823\n",
      "\n",
      "Звезды в Африке, 3 сезон, 7 выпуск,video_29904328\n",
      "\n",
      "Звезды в Африке, 3 сезон, 7 выпуск,video_32905381\n",
      "\n"
     ]
    },
    {
     "name": "stderr",
     "output_type": "stream",
     "text": [
      "[nltk_data] Downloading package stopwords to\n",
      "[nltk_data]     /home/jupyter/nltk_data...\n",
      "[nltk_data]   Package stopwords is already up-to-date!\n"
     ]
    },
    {
     "name": "stdout",
     "output_type": "stream",
     "text": [
      "саша против,video_1543419\n",
      "\n",
      "саша против,video_7028036\n",
      "\n",
      "саша против,video_11424806\n",
      "\n",
      "саша против,video_10988430\n",
      "\n",
      "саша против,video_9150521\n",
      "\n"
     ]
    },
    {
     "name": "stderr",
     "output_type": "stream",
     "text": [
      "[nltk_data] Downloading package stopwords to\n",
      "[nltk_data]     /home/jupyter/nltk_data...\n",
      "[nltk_data]   Package stopwords is already up-to-date!\n"
     ]
    },
    {
     "name": "stdout",
     "output_type": "stream",
     "text": [
      "битва сильнейших 04.11.2023,video_1543419\n",
      "\n",
      "битва сильнейших 04.11.2023,video_7028036\n",
      "\n",
      "битва сильнейших 04.11.2023,video_11424806\n",
      "\n",
      "битва сильнейших 04.11.2023,video_10988430\n",
      "\n",
      "битва сильнейших 04.11.2023,video_9150521\n",
      "\n"
     ]
    },
    {
     "name": "stderr",
     "output_type": "stream",
     "text": [
      "[nltk_data] Downloading package stopwords to\n",
      "[nltk_data]     /home/jupyter/nltk_data...\n",
      "[nltk_data]   Package stopwords is already up-to-date!\n"
     ]
    },
    {
     "name": "stdout",
     "output_type": "stream",
     "text": [
      "Новые Звёзды в Африке, 1 выпуск,video_14678153\n",
      "\n",
      "Новые Звёзды в Африке, 1 выпуск,video_18493556\n",
      "\n",
      "Новые Звёзды в Африке, 1 выпуск,video_9467797\n",
      "\n",
      "Новые Звёзды в Африке, 1 выпуск,video_8394567\n",
      "\n",
      "Новые Звёзды в Африке, 1 выпуск,video_2829093\n",
      "\n"
     ]
    },
    {
     "name": "stderr",
     "output_type": "stream",
     "text": [
      "[nltk_data] Downloading package stopwords to\n",
      "[nltk_data]     /home/jupyter/nltk_data...\n",
      "[nltk_data]   Package stopwords is already up-to-date!\n"
     ]
    },
    {
     "name": "stdout",
     "output_type": "stream",
     "text": [
      "битва сильнейших 4 ноября,video_4689267\n",
      "\n",
      "битва сильнейших 4 ноября,video_19251526\n",
      "\n",
      "битва сильнейших 4 ноября,video_11779282\n",
      "\n",
      "битва сильнейших 4 ноября,video_20719300\n",
      "\n",
      "битва сильнейших 4 ноября,video_25826806\n",
      "\n"
     ]
    },
    {
     "name": "stderr",
     "output_type": "stream",
     "text": [
      "[nltk_data] Downloading package stopwords to\n",
      "[nltk_data]     /home/jupyter/nltk_data...\n",
      "[nltk_data]   Package stopwords is already up-to-date!\n"
     ]
    },
    {
     "name": "stdout",
     "output_type": "stream",
     "text": [
      "Мужское женское 07.11.2023,video_1543419\n",
      "\n",
      "Мужское женское 07.11.2023,video_7028036\n",
      "\n",
      "Мужское женское 07.11.2023,video_11424806\n",
      "\n",
      "Мужское женское 07.11.2023,video_10988430\n",
      "\n",
      "Мужское женское 07.11.2023,video_9150521\n",
      "\n"
     ]
    },
    {
     "name": "stderr",
     "output_type": "stream",
     "text": [
      "[nltk_data] Downloading package stopwords to\n",
      "[nltk_data]     /home/jupyter/nltk_data...\n",
      "[nltk_data]   Package stopwords is already up-to-date!\n"
     ]
    },
    {
     "name": "stdout",
     "output_type": "stream",
     "text": [
      "Челси Манчестер Сити ,video_18829185\n",
      "\n",
      "Челси Манчестер Сити ,video_15715017\n",
      "\n",
      "Челси Манчестер Сити ,video_31324185\n",
      "\n",
      "Челси Манчестер Сити ,video_26853958\n",
      "\n",
      "Челси Манчестер Сити ,video_32053980\n",
      "\n"
     ]
    },
    {
     "name": "stderr",
     "output_type": "stream",
     "text": [
      "[nltk_data] Downloading package stopwords to\n",
      "[nltk_data]     /home/jupyter/nltk_data...\n",
      "[nltk_data]   Package stopwords is already up-to-date!\n"
     ]
    },
    {
     "name": "stdout",
     "output_type": "stream",
     "text": [
      "мужское / женское 2023,video_18829185\n",
      "\n",
      "мужское / женское 2023,video_15715017\n",
      "\n",
      "мужское / женское 2023,video_31324185\n",
      "\n",
      "мужское / женское 2023,video_26853958\n",
      "\n",
      "мужское / женское 2023,video_32053980\n",
      "\n"
     ]
    },
    {
     "name": "stderr",
     "output_type": "stream",
     "text": [
      "[nltk_data] Downloading package stopwords to\n",
      "[nltk_data]     /home/jupyter/nltk_data...\n",
      "[nltk_data]   Package stopwords is already up-to-date!\n"
     ]
    },
    {
     "name": "stdout",
     "output_type": "stream",
     "text": [
      "Пять ночей с Фреди,video_4689267\n",
      "\n",
      "Пять ночей с Фреди,video_19251526\n",
      "\n",
      "Пять ночей с Фреди,video_11779282\n",
      "\n",
      "Пять ночей с Фреди,video_20719300\n",
      "\n",
      "Пять ночей с Фреди,video_25826806\n",
      "\n"
     ]
    },
    {
     "name": "stderr",
     "output_type": "stream",
     "text": [
      "[nltk_data] Downloading package stopwords to\n",
      "[nltk_data]     /home/jupyter/nltk_data...\n",
      "[nltk_data]   Package stopwords is already up-to-date!\n"
     ]
    },
    {
     "name": "stdout",
     "output_type": "stream",
     "text": [
      "Копенгаген манчестер юнайтед,video_1543419\n",
      "\n",
      "Копенгаген манчестер юнайтед,video_7028036\n",
      "\n",
      "Копенгаген манчестер юнайтед,video_11424806\n",
      "\n",
      "Копенгаген манчестер юнайтед,video_10988430\n",
      "\n",
      "Копенгаген манчестер юнайтед,video_9150521\n",
      "\n"
     ]
    },
    {
     "name": "stderr",
     "output_type": "stream",
     "text": [
      "[nltk_data] Downloading package stopwords to\n",
      "[nltk_data]     /home/jupyter/nltk_data...\n",
      "[nltk_data]   Package stopwords is already up-to-date!\n",
      "[nltk_data] Downloading package stopwords to\n",
      "[nltk_data]     /home/jupyter/nltk_data...\n",
      "[nltk_data]   Package stopwords is already up-to-date!\n"
     ]
    },
    {
     "name": "stdout",
     "output_type": "stream",
     "text": [
      "мужское женское 14.11.2023,video_1543419\n",
      "\n",
      "мужское женское 14.11.2023,video_7028036\n",
      "\n",
      "мужское женское 14.11.2023,video_11424806\n",
      "\n",
      "мужское женское 14.11.2023,video_10988430\n",
      "\n",
      "мужское женское 14.11.2023,video_9150521\n",
      "\n"
     ]
    },
    {
     "name": "stderr",
     "output_type": "stream",
     "text": [
      "[nltk_data] Downloading package stopwords to\n",
      "[nltk_data]     /home/jupyter/nltk_data...\n",
      "[nltk_data]   Package stopwords is already up-to-date!\n"
     ]
    }
   ],
   "source": [
    "sub = open('submition_2.txt', 'w')\n",
    "sub.write(\"query,video_id\\n\")\n",
    "\n",
    "for num, el in enumerate(tst):\n",
    "    for vid in rec_vids_from_queries(el[0]):\n",
    "        sub.write(f\"{el[0]},{vid}\\n\")\n",
    "        print(f\"{el[0]},{vid}\\n\")\n",
    "sub.close()       "
   ]
  },
  {
   "cell_type": "code",
   "execution_count": null,
   "id": "c9814c5b-cd56-431c-a5b7-847872b2dcb2",
   "metadata": {},
   "outputs": [],
   "source": []
  }
 ],
 "metadata": {
  "kernelspec": {
   "display_name": "DataSphere Kernel",
   "language": "python",
   "name": "python3"
  },
  "language_info": {
   "codemirror_mode": {
    "name": "ipython",
    "version": 3
   },
   "file_extension": ".py",
   "mimetype": "text/x-python",
   "name": "python",
   "nbconvert_exporter": "python",
   "pygments_lexer": "ipython3",
   "version": "3.7.7"
  }
 },
 "nbformat": 4,
 "nbformat_minor": 5
}
